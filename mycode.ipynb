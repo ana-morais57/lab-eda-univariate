{
 "cells": [
  {
   "cell_type": "markdown",
   "id": "902b8068-e211-4ac4-8d44-50816ce77161",
   "metadata": {},
   "source": [
    "# Lab - EDA Univariate Analysis: Diving into Amazon UK Product Insights"
   ]
  },
  {
   "cell_type": "markdown",
   "id": "40cacf5a-169f-42b4-b964-4c3bc0fde7f1",
   "metadata": {},
   "source": [
    "## Objective:\n",
    "\n",
    "Explore the product listing dynamics on Amazon UK to extract actionable business insights. By understanding the distribution, central tendencies, and relationships of various product attributes, businesses can make more informed decisions on product positioning, pricing strategies, and inventory management."
   ]
  },
  {
   "cell_type": "markdown",
   "id": "16f26fd8-cc79-4945-a90f-3fc4396b2060",
   "metadata": {},
   "source": [
    "# Part 1: Understanding Product Categories"
   ]
  },
  {
   "cell_type": "markdown",
   "id": "4717b716-e9cd-4046-a848-37239a45c190",
   "metadata": {},
   "source": [
    "## Business Question:\n",
    "\n",
    "What are the most popular product categories on Amazon UK, and how do they compare in terms of listing frequency?"
   ]
  },
  {
   "cell_type": "markdown",
   "id": "71ba3d91-66b6-4dc4-bd3c-6d6ac8498ce5",
   "metadata": {},
   "source": [
    "### 1. Frequency Tables:"
   ]
  },
  {
   "cell_type": "markdown",
   "id": "5a9064bf-5fad-4369-8dda-2f40c60c9427",
   "metadata": {},
   "source": [
    "Generating a frequency table for the product category"
   ]
  },
  {
   "cell_type": "code",
   "execution_count": 8,
   "id": "d31f4b10-bfcc-467c-91a2-0d62b9493da2",
   "metadata": {},
   "outputs": [],
   "source": [
    "# But first things first\n",
    "\n",
    "import pandas as pd\n",
    "import matplotlib.pyplot as plt\n",
    "import seaborn as sns\n",
    "import numpy as np\n",
    "from scipy.stats import skew, kurtosis"
   ]
  },
  {
   "cell_type": "code",
   "execution_count": 9,
   "id": "9f7eaeb0-a2ef-471b-b6b0-09d891839b5b",
   "metadata": {},
   "outputs": [],
   "source": [
    "data = pd.read_csv(\"amz_uk_price_prediction_dataset.csv\")"
   ]
  },
  {
   "cell_type": "code",
   "execution_count": 11,
   "id": "ef2a60df-2dec-4ce2-85d5-c75260205f15",
   "metadata": {},
   "outputs": [
    {
     "data": {
      "text/html": [
       "<div>\n",
       "<style scoped>\n",
       "    .dataframe tbody tr th:only-of-type {\n",
       "        vertical-align: middle;\n",
       "    }\n",
       "\n",
       "    .dataframe tbody tr th {\n",
       "        vertical-align: top;\n",
       "    }\n",
       "\n",
       "    .dataframe thead th {\n",
       "        text-align: right;\n",
       "    }\n",
       "</style>\n",
       "<table border=\"1\" class=\"dataframe\">\n",
       "  <thead>\n",
       "    <tr style=\"text-align: right;\">\n",
       "      <th></th>\n",
       "      <th>uid</th>\n",
       "      <th>asin</th>\n",
       "      <th>title</th>\n",
       "      <th>stars</th>\n",
       "      <th>reviews</th>\n",
       "      <th>price</th>\n",
       "      <th>isBestSeller</th>\n",
       "      <th>boughtInLastMonth</th>\n",
       "      <th>category</th>\n",
       "    </tr>\n",
       "  </thead>\n",
       "  <tbody>\n",
       "    <tr>\n",
       "      <th>0</th>\n",
       "      <td>1</td>\n",
       "      <td>B09B96TG33</td>\n",
       "      <td>Echo Dot (5th generation, 2022 release) | Big ...</td>\n",
       "      <td>4.7</td>\n",
       "      <td>15308</td>\n",
       "      <td>21.99</td>\n",
       "      <td>False</td>\n",
       "      <td>0</td>\n",
       "      <td>Hi-Fi Speakers</td>\n",
       "    </tr>\n",
       "    <tr>\n",
       "      <th>1</th>\n",
       "      <td>2</td>\n",
       "      <td>B01HTH3C8S</td>\n",
       "      <td>Anker Soundcore mini, Super-Portable Bluetooth...</td>\n",
       "      <td>4.7</td>\n",
       "      <td>98099</td>\n",
       "      <td>23.99</td>\n",
       "      <td>True</td>\n",
       "      <td>0</td>\n",
       "      <td>Hi-Fi Speakers</td>\n",
       "    </tr>\n",
       "    <tr>\n",
       "      <th>2</th>\n",
       "      <td>3</td>\n",
       "      <td>B09B8YWXDF</td>\n",
       "      <td>Echo Dot (5th generation, 2022 release) | Big ...</td>\n",
       "      <td>4.7</td>\n",
       "      <td>15308</td>\n",
       "      <td>21.99</td>\n",
       "      <td>False</td>\n",
       "      <td>0</td>\n",
       "      <td>Hi-Fi Speakers</td>\n",
       "    </tr>\n",
       "    <tr>\n",
       "      <th>3</th>\n",
       "      <td>4</td>\n",
       "      <td>B09B8T5VGV</td>\n",
       "      <td>Echo Dot with clock (5th generation, 2022 rele...</td>\n",
       "      <td>4.7</td>\n",
       "      <td>7205</td>\n",
       "      <td>31.99</td>\n",
       "      <td>False</td>\n",
       "      <td>0</td>\n",
       "      <td>Hi-Fi Speakers</td>\n",
       "    </tr>\n",
       "    <tr>\n",
       "      <th>4</th>\n",
       "      <td>5</td>\n",
       "      <td>B09WX6QD65</td>\n",
       "      <td>Introducing Echo Pop | Full sound compact Wi-F...</td>\n",
       "      <td>4.6</td>\n",
       "      <td>1881</td>\n",
       "      <td>17.99</td>\n",
       "      <td>False</td>\n",
       "      <td>0</td>\n",
       "      <td>Hi-Fi Speakers</td>\n",
       "    </tr>\n",
       "    <tr>\n",
       "      <th>...</th>\n",
       "      <td>...</td>\n",
       "      <td>...</td>\n",
       "      <td>...</td>\n",
       "      <td>...</td>\n",
       "      <td>...</td>\n",
       "      <td>...</td>\n",
       "      <td>...</td>\n",
       "      <td>...</td>\n",
       "      <td>...</td>\n",
       "    </tr>\n",
       "    <tr>\n",
       "      <th>2443646</th>\n",
       "      <td>2828589</td>\n",
       "      <td>B0CHSD7P2Q</td>\n",
       "      <td>Motorbike Armour, Motorbike Clothing, Cycling ...</td>\n",
       "      <td>0.0</td>\n",
       "      <td>0</td>\n",
       "      <td>22.34</td>\n",
       "      <td>False</td>\n",
       "      <td>0</td>\n",
       "      <td>Motorbike Clothing</td>\n",
       "    </tr>\n",
       "    <tr>\n",
       "      <th>2443647</th>\n",
       "      <td>2828590</td>\n",
       "      <td>B0B7B8FNBQ</td>\n",
       "      <td>PROFIRST Waterproof Motorcycle 2 Piece Ladies ...</td>\n",
       "      <td>0.0</td>\n",
       "      <td>0</td>\n",
       "      <td>97.99</td>\n",
       "      <td>False</td>\n",
       "      <td>0</td>\n",
       "      <td>Motorbike Clothing</td>\n",
       "    </tr>\n",
       "    <tr>\n",
       "      <th>2443648</th>\n",
       "      <td>2828591</td>\n",
       "      <td>B0BD5FL5FB</td>\n",
       "      <td>Men’s Motorcycle Motorbike Biker Trousers Kevl...</td>\n",
       "      <td>0.0</td>\n",
       "      <td>0</td>\n",
       "      <td>52.99</td>\n",
       "      <td>False</td>\n",
       "      <td>0</td>\n",
       "      <td>Motorbike Clothing</td>\n",
       "    </tr>\n",
       "    <tr>\n",
       "      <th>2443649</th>\n",
       "      <td>2828592</td>\n",
       "      <td>B008OYLL4I</td>\n",
       "      <td>Texpeed Mens Motorcycle Motorbike Biker Trouse...</td>\n",
       "      <td>4.3</td>\n",
       "      <td>404</td>\n",
       "      <td>79.99</td>\n",
       "      <td>False</td>\n",
       "      <td>0</td>\n",
       "      <td>Motorbike Clothing</td>\n",
       "    </tr>\n",
       "    <tr>\n",
       "      <th>2443650</th>\n",
       "      <td>2828593</td>\n",
       "      <td>B08P3W9B3T</td>\n",
       "      <td>RIDEX CJ223 Motorcycle Motorbike Jacket Armour...</td>\n",
       "      <td>4.5</td>\n",
       "      <td>34</td>\n",
       "      <td>53.99</td>\n",
       "      <td>False</td>\n",
       "      <td>0</td>\n",
       "      <td>Motorbike Clothing</td>\n",
       "    </tr>\n",
       "  </tbody>\n",
       "</table>\n",
       "<p>2443651 rows × 9 columns</p>\n",
       "</div>"
      ],
      "text/plain": [
       "             uid        asin  \\\n",
       "0              1  B09B96TG33   \n",
       "1              2  B01HTH3C8S   \n",
       "2              3  B09B8YWXDF   \n",
       "3              4  B09B8T5VGV   \n",
       "4              5  B09WX6QD65   \n",
       "...          ...         ...   \n",
       "2443646  2828589  B0CHSD7P2Q   \n",
       "2443647  2828590  B0B7B8FNBQ   \n",
       "2443648  2828591  B0BD5FL5FB   \n",
       "2443649  2828592  B008OYLL4I   \n",
       "2443650  2828593  B08P3W9B3T   \n",
       "\n",
       "                                                     title  stars  reviews  \\\n",
       "0        Echo Dot (5th generation, 2022 release) | Big ...    4.7    15308   \n",
       "1        Anker Soundcore mini, Super-Portable Bluetooth...    4.7    98099   \n",
       "2        Echo Dot (5th generation, 2022 release) | Big ...    4.7    15308   \n",
       "3        Echo Dot with clock (5th generation, 2022 rele...    4.7     7205   \n",
       "4        Introducing Echo Pop | Full sound compact Wi-F...    4.6     1881   \n",
       "...                                                    ...    ...      ...   \n",
       "2443646  Motorbike Armour, Motorbike Clothing, Cycling ...    0.0        0   \n",
       "2443647  PROFIRST Waterproof Motorcycle 2 Piece Ladies ...    0.0        0   \n",
       "2443648  Men’s Motorcycle Motorbike Biker Trousers Kevl...    0.0        0   \n",
       "2443649  Texpeed Mens Motorcycle Motorbike Biker Trouse...    4.3      404   \n",
       "2443650  RIDEX CJ223 Motorcycle Motorbike Jacket Armour...    4.5       34   \n",
       "\n",
       "         price  isBestSeller  boughtInLastMonth            category  \n",
       "0        21.99         False                  0      Hi-Fi Speakers  \n",
       "1        23.99          True                  0      Hi-Fi Speakers  \n",
       "2        21.99         False                  0      Hi-Fi Speakers  \n",
       "3        31.99         False                  0      Hi-Fi Speakers  \n",
       "4        17.99         False                  0      Hi-Fi Speakers  \n",
       "...        ...           ...                ...                 ...  \n",
       "2443646  22.34         False                  0  Motorbike Clothing  \n",
       "2443647  97.99         False                  0  Motorbike Clothing  \n",
       "2443648  52.99         False                  0  Motorbike Clothing  \n",
       "2443649  79.99         False                  0  Motorbike Clothing  \n",
       "2443650  53.99         False                  0  Motorbike Clothing  \n",
       "\n",
       "[2443651 rows x 9 columns]"
      ]
     },
     "execution_count": 11,
     "metadata": {},
     "output_type": "execute_result"
    }
   ],
   "source": [
    "data"
   ]
  },
  {
   "cell_type": "code",
   "execution_count": 12,
   "id": "80b59421-f8c1-436e-b3fe-fedc87f24ea1",
   "metadata": {},
   "outputs": [],
   "source": [
    "df = data.copy()"
   ]
  },
  {
   "cell_type": "code",
   "execution_count": 15,
   "id": "282bc999-cd89-45e0-9e89-96f016a7cc17",
   "metadata": {},
   "outputs": [
    {
     "name": "stdout",
     "output_type": "stream",
     "text": [
      "<class 'pandas.core.frame.DataFrame'>\n",
      "RangeIndex: 2443651 entries, 0 to 2443650\n",
      "Data columns (total 9 columns):\n",
      " #   Column             Dtype  \n",
      "---  ------             -----  \n",
      " 0   uid                int64  \n",
      " 1   asin               object \n",
      " 2   title              object \n",
      " 3   stars              float64\n",
      " 4   reviews            int64  \n",
      " 5   price              float64\n",
      " 6   isBestSeller       bool   \n",
      " 7   boughtInLastMonth  int64  \n",
      " 8   category           object \n",
      "dtypes: bool(1), float64(2), int64(3), object(3)\n",
      "memory usage: 151.5+ MB\n"
     ]
    }
   ],
   "source": [
    "df.info()"
   ]
  },
  {
   "cell_type": "code",
   "execution_count": 18,
   "id": "76b2761e-43df-4e9e-b6c1-b78b01b04382",
   "metadata": {},
   "outputs": [
    {
     "data": {
      "text/plain": [
       "uid                  0\n",
       "asin                 0\n",
       "title                0\n",
       "stars                0\n",
       "reviews              0\n",
       "price                0\n",
       "isBestSeller         0\n",
       "boughtInLastMonth    0\n",
       "category             0\n",
       "dtype: int64"
      ]
     },
     "execution_count": 18,
     "metadata": {},
     "output_type": "execute_result"
    }
   ],
   "source": [
    "df.isnull().sum()"
   ]
  },
  {
   "cell_type": "code",
   "execution_count": 20,
   "id": "b3d3f292-ee9b-431c-bac4-a8174e5d48cd",
   "metadata": {},
   "outputs": [
    {
     "data": {
      "text/plain": [
       "False    2443651\n",
       "Name: count, dtype: int64"
      ]
     },
     "execution_count": 20,
     "metadata": {},
     "output_type": "execute_result"
    }
   ],
   "source": [
    "df.duplicated().value_counts()"
   ]
  },
  {
   "cell_type": "code",
   "execution_count": 21,
   "id": "1c2ae3f7-7b4a-40b7-a9c5-3f6be5a384c1",
   "metadata": {},
   "outputs": [
    {
     "data": {
      "text/plain": [
       "(2443651, 9)"
      ]
     },
     "execution_count": 21,
     "metadata": {},
     "output_type": "execute_result"
    }
   ],
   "source": [
    "df.shape"
   ]
  },
  {
   "cell_type": "code",
   "execution_count": 22,
   "id": "d0e2f1cc-3a01-4fb1-ad24-3a71e8a1a5b5",
   "metadata": {},
   "outputs": [
    {
     "data": {
      "text/plain": [
       "296"
      ]
     },
     "execution_count": 22,
     "metadata": {},
     "output_type": "execute_result"
    }
   ],
   "source": [
    "df.category.nunique()"
   ]
  },
  {
   "cell_type": "code",
   "execution_count": 23,
   "id": "f38520d4-ee3b-4fe7-ba55-11d4e7badce8",
   "metadata": {},
   "outputs": [],
   "source": [
    "frequency_table = df.category.value_counts()\n",
    "proportion_table = df.category.value_counts(normalize=True).round(2)"
   ]
  },
  {
   "cell_type": "code",
   "execution_count": 28,
   "id": "706d61e8-fe9d-4e1d-9ac3-982d91add21c",
   "metadata": {},
   "outputs": [
    {
     "data": {
      "text/plain": [
       "category\n",
       "Sports & Outdoors                         836265\n",
       "Beauty                                     19312\n",
       "Handmade Clothing, Shoes & Accessories     19229\n",
       "Bath & Body                                19092\n",
       "Birthday Gifts                             18978\n",
       "                                           ...  \n",
       "Alexa Built-In Devices                       107\n",
       "Motorbike Chassis                            107\n",
       "Plugs                                        107\n",
       "Smart Home Security & Lighting               104\n",
       "Smart Speakers                                54\n",
       "Name: count, Length: 296, dtype: int64"
      ]
     },
     "execution_count": 28,
     "metadata": {},
     "output_type": "execute_result"
    }
   ],
   "source": [
    "frequency_table"
   ]
  },
  {
   "cell_type": "code",
   "execution_count": 30,
   "id": "03934555-9af1-4a7b-9478-bd95492913c9",
   "metadata": {},
   "outputs": [
    {
     "data": {
      "text/plain": [
       "category\n",
       "Sports & Outdoors                         0.34\n",
       "Beauty                                    0.01\n",
       "Handmade Clothing, Shoes & Accessories    0.01\n",
       "Bath & Body                               0.01\n",
       "Birthday Gifts                            0.01\n",
       "                                          ... \n",
       "Alexa Built-In Devices                    0.00\n",
       "Motorbike Chassis                         0.00\n",
       "Plugs                                     0.00\n",
       "Smart Home Security & Lighting            0.00\n",
       "Smart Speakers                            0.00\n",
       "Name: proportion, Length: 296, dtype: float64"
      ]
     },
     "execution_count": 30,
     "metadata": {},
     "output_type": "execute_result"
    }
   ],
   "source": [
    "proportion_table"
   ]
  },
  {
   "cell_type": "code",
   "execution_count": 32,
   "id": "e3308b43-5f96-4318-9ed7-76608d4faf3f",
   "metadata": {},
   "outputs": [
    {
     "data": {
      "text/plain": [
       "proportion\n",
       "0.00    275\n",
       "0.01     20\n",
       "0.34      1\n",
       "Name: count, dtype: int64"
      ]
     },
     "execution_count": 32,
     "metadata": {},
     "output_type": "execute_result"
    }
   ],
   "source": [
    "proportion_table.value_counts()"
   ]
  },
  {
   "cell_type": "code",
   "execution_count": 34,
   "id": "d18b1e3e-1d69-4b91-959d-a2c244a90e88",
   "metadata": {},
   "outputs": [
    {
     "data": {
      "text/html": [
       "<div>\n",
       "<style scoped>\n",
       "    .dataframe tbody tr th:only-of-type {\n",
       "        vertical-align: middle;\n",
       "    }\n",
       "\n",
       "    .dataframe tbody tr th {\n",
       "        vertical-align: top;\n",
       "    }\n",
       "\n",
       "    .dataframe thead th {\n",
       "        text-align: right;\n",
       "    }\n",
       "</style>\n",
       "<table border=\"1\" class=\"dataframe\">\n",
       "  <thead>\n",
       "    <tr style=\"text-align: right;\">\n",
       "      <th></th>\n",
       "      <th>absolute_frequency</th>\n",
       "      <th>relative_frequency</th>\n",
       "    </tr>\n",
       "    <tr>\n",
       "      <th>category</th>\n",
       "      <th></th>\n",
       "      <th></th>\n",
       "    </tr>\n",
       "  </thead>\n",
       "  <tbody>\n",
       "    <tr>\n",
       "      <th>Sports &amp; Outdoors</th>\n",
       "      <td>836265</td>\n",
       "      <td>0.34</td>\n",
       "    </tr>\n",
       "    <tr>\n",
       "      <th>Beauty</th>\n",
       "      <td>19312</td>\n",
       "      <td>0.01</td>\n",
       "    </tr>\n",
       "    <tr>\n",
       "      <th>Handmade Clothing, Shoes &amp; Accessories</th>\n",
       "      <td>19229</td>\n",
       "      <td>0.01</td>\n",
       "    </tr>\n",
       "    <tr>\n",
       "      <th>Bath &amp; Body</th>\n",
       "      <td>19092</td>\n",
       "      <td>0.01</td>\n",
       "    </tr>\n",
       "    <tr>\n",
       "      <th>Birthday Gifts</th>\n",
       "      <td>18978</td>\n",
       "      <td>0.01</td>\n",
       "    </tr>\n",
       "    <tr>\n",
       "      <th>...</th>\n",
       "      <td>...</td>\n",
       "      <td>...</td>\n",
       "    </tr>\n",
       "    <tr>\n",
       "      <th>Alexa Built-In Devices</th>\n",
       "      <td>107</td>\n",
       "      <td>0.00</td>\n",
       "    </tr>\n",
       "    <tr>\n",
       "      <th>Motorbike Chassis</th>\n",
       "      <td>107</td>\n",
       "      <td>0.00</td>\n",
       "    </tr>\n",
       "    <tr>\n",
       "      <th>Plugs</th>\n",
       "      <td>107</td>\n",
       "      <td>0.00</td>\n",
       "    </tr>\n",
       "    <tr>\n",
       "      <th>Smart Home Security &amp; Lighting</th>\n",
       "      <td>104</td>\n",
       "      <td>0.00</td>\n",
       "    </tr>\n",
       "    <tr>\n",
       "      <th>Smart Speakers</th>\n",
       "      <td>54</td>\n",
       "      <td>0.00</td>\n",
       "    </tr>\n",
       "  </tbody>\n",
       "</table>\n",
       "<p>296 rows × 2 columns</p>\n",
       "</div>"
      ],
      "text/plain": [
       "                                        absolute_frequency  relative_frequency\n",
       "category                                                                      \n",
       "Sports & Outdoors                                   836265                0.34\n",
       "Beauty                                               19312                0.01\n",
       "Handmade Clothing, Shoes & Accessories               19229                0.01\n",
       "Bath & Body                                          19092                0.01\n",
       "Birthday Gifts                                       18978                0.01\n",
       "...                                                    ...                 ...\n",
       "Alexa Built-In Devices                                 107                0.00\n",
       "Motorbike Chassis                                      107                0.00\n",
       "Plugs                                                  107                0.00\n",
       "Smart Home Security & Lighting                         104                0.00\n",
       "Smart Speakers                                          54                0.00\n",
       "\n",
       "[296 rows x 2 columns]"
      ]
     },
     "execution_count": 34,
     "metadata": {},
     "output_type": "execute_result"
    }
   ],
   "source": [
    "# Let's merge the two tables:\n",
    "df_freq_table = pd.concat([frequency_table, proportion_table], axis=1)\n",
    "df_freq_table.columns = ['absolute_frequency', 'relative_frequency']\n",
    "df_freq_table"
   ]
  },
  {
   "cell_type": "code",
   "execution_count": 36,
   "id": "d457d154-f33d-4752-83e5-a97d6d8e5fa5",
   "metadata": {},
   "outputs": [],
   "source": [
    "total_absolute = int(frequency_table.sum())\n",
    "total_relative = int(proportion_table.sum())"
   ]
  },
  {
   "cell_type": "code",
   "execution_count": 38,
   "id": "ac83a93a-318c-478a-957a-8654d1413657",
   "metadata": {},
   "outputs": [
    {
     "data": {
      "text/html": [
       "<div>\n",
       "<style scoped>\n",
       "    .dataframe tbody tr th:only-of-type {\n",
       "        vertical-align: middle;\n",
       "    }\n",
       "\n",
       "    .dataframe tbody tr th {\n",
       "        vertical-align: top;\n",
       "    }\n",
       "\n",
       "    .dataframe thead th {\n",
       "        text-align: right;\n",
       "    }\n",
       "</style>\n",
       "<table border=\"1\" class=\"dataframe\">\n",
       "  <thead>\n",
       "    <tr style=\"text-align: right;\">\n",
       "      <th></th>\n",
       "      <th>absolute_frequency</th>\n",
       "      <th>relative_frequency</th>\n",
       "    </tr>\n",
       "  </thead>\n",
       "  <tbody>\n",
       "    <tr>\n",
       "      <th>Total</th>\n",
       "      <td>2443651</td>\n",
       "      <td>0</td>\n",
       "    </tr>\n",
       "  </tbody>\n",
       "</table>\n",
       "</div>"
      ],
      "text/plain": [
       "       absolute_frequency  relative_frequency\n",
       "Total             2443651                   0"
      ]
     },
     "execution_count": 38,
     "metadata": {},
     "output_type": "execute_result"
    }
   ],
   "source": [
    "total_row = pd.DataFrame({\n",
    "    'absolute_frequency': [total_absolute],\n",
    "    'relative_frequency': [total_relative]\n",
    "}, index=['Total'])\n",
    "total_row"
   ]
  },
  {
   "cell_type": "code",
   "execution_count": 40,
   "id": "068c3cdc-f758-4df2-bb9f-c7d258a34b6f",
   "metadata": {},
   "outputs": [
    {
     "data": {
      "text/html": [
       "<div>\n",
       "<style scoped>\n",
       "    .dataframe tbody tr th:only-of-type {\n",
       "        vertical-align: middle;\n",
       "    }\n",
       "\n",
       "    .dataframe tbody tr th {\n",
       "        vertical-align: top;\n",
       "    }\n",
       "\n",
       "    .dataframe thead th {\n",
       "        text-align: right;\n",
       "    }\n",
       "</style>\n",
       "<table border=\"1\" class=\"dataframe\">\n",
       "  <thead>\n",
       "    <tr style=\"text-align: right;\">\n",
       "      <th></th>\n",
       "      <th>absolute_frequency</th>\n",
       "      <th>relative_frequency</th>\n",
       "    </tr>\n",
       "  </thead>\n",
       "  <tbody>\n",
       "    <tr>\n",
       "      <th>Sports &amp; Outdoors</th>\n",
       "      <td>836265</td>\n",
       "      <td>0.34</td>\n",
       "    </tr>\n",
       "    <tr>\n",
       "      <th>Beauty</th>\n",
       "      <td>19312</td>\n",
       "      <td>0.01</td>\n",
       "    </tr>\n",
       "    <tr>\n",
       "      <th>Handmade Clothing, Shoes &amp; Accessories</th>\n",
       "      <td>19229</td>\n",
       "      <td>0.01</td>\n",
       "    </tr>\n",
       "    <tr>\n",
       "      <th>Bath &amp; Body</th>\n",
       "      <td>19092</td>\n",
       "      <td>0.01</td>\n",
       "    </tr>\n",
       "    <tr>\n",
       "      <th>Birthday Gifts</th>\n",
       "      <td>18978</td>\n",
       "      <td>0.01</td>\n",
       "    </tr>\n",
       "    <tr>\n",
       "      <th>...</th>\n",
       "      <td>...</td>\n",
       "      <td>...</td>\n",
       "    </tr>\n",
       "    <tr>\n",
       "      <th>Motorbike Chassis</th>\n",
       "      <td>107</td>\n",
       "      <td>0.00</td>\n",
       "    </tr>\n",
       "    <tr>\n",
       "      <th>Plugs</th>\n",
       "      <td>107</td>\n",
       "      <td>0.00</td>\n",
       "    </tr>\n",
       "    <tr>\n",
       "      <th>Smart Home Security &amp; Lighting</th>\n",
       "      <td>104</td>\n",
       "      <td>0.00</td>\n",
       "    </tr>\n",
       "    <tr>\n",
       "      <th>Smart Speakers</th>\n",
       "      <td>54</td>\n",
       "      <td>0.00</td>\n",
       "    </tr>\n",
       "    <tr>\n",
       "      <th>Total</th>\n",
       "      <td>2443651</td>\n",
       "      <td>0.00</td>\n",
       "    </tr>\n",
       "  </tbody>\n",
       "</table>\n",
       "<p>297 rows × 2 columns</p>\n",
       "</div>"
      ],
      "text/plain": [
       "                                        absolute_frequency  relative_frequency\n",
       "Sports & Outdoors                                   836265                0.34\n",
       "Beauty                                               19312                0.01\n",
       "Handmade Clothing, Shoes & Accessories               19229                0.01\n",
       "Bath & Body                                          19092                0.01\n",
       "Birthday Gifts                                       18978                0.01\n",
       "...                                                    ...                 ...\n",
       "Motorbike Chassis                                      107                0.00\n",
       "Plugs                                                  107                0.00\n",
       "Smart Home Security & Lighting                         104                0.00\n",
       "Smart Speakers                                          54                0.00\n",
       "Total                                              2443651                0.00\n",
       "\n",
       "[297 rows x 2 columns]"
      ]
     },
     "execution_count": 40,
     "metadata": {},
     "output_type": "execute_result"
    }
   ],
   "source": [
    "freq_table_total = pd.concat([df_freq_table,total_row])\n",
    "freq_table_total"
   ]
  },
  {
   "cell_type": "markdown",
   "id": "71a91a8d-565e-4cfd-9212-e2b014421569",
   "metadata": {},
   "source": [
    "### 2. Visualizations:"
   ]
  },
  {
   "cell_type": "code",
   "execution_count": 43,
   "id": "9b7d8288-fc36-43cb-81a2-a8e43ce77d35",
   "metadata": {
    "scrolled": true
   },
   "outputs": [
    {
     "data": {
      "text/html": [
       "<div>\n",
       "<style scoped>\n",
       "    .dataframe tbody tr th:only-of-type {\n",
       "        vertical-align: middle;\n",
       "    }\n",
       "\n",
       "    .dataframe tbody tr th {\n",
       "        vertical-align: top;\n",
       "    }\n",
       "\n",
       "    .dataframe thead th {\n",
       "        text-align: right;\n",
       "    }\n",
       "</style>\n",
       "<table border=\"1\" class=\"dataframe\">\n",
       "  <thead>\n",
       "    <tr style=\"text-align: right;\">\n",
       "      <th></th>\n",
       "      <th>absolute_frequency</th>\n",
       "      <th>relative_frequency</th>\n",
       "    </tr>\n",
       "    <tr>\n",
       "      <th>category</th>\n",
       "      <th></th>\n",
       "      <th></th>\n",
       "    </tr>\n",
       "  </thead>\n",
       "  <tbody>\n",
       "    <tr>\n",
       "      <th>Sports &amp; Outdoors</th>\n",
       "      <td>836265</td>\n",
       "      <td>0.34</td>\n",
       "    </tr>\n",
       "    <tr>\n",
       "      <th>Beauty</th>\n",
       "      <td>19312</td>\n",
       "      <td>0.01</td>\n",
       "    </tr>\n",
       "    <tr>\n",
       "      <th>Handmade Clothing, Shoes &amp; Accessories</th>\n",
       "      <td>19229</td>\n",
       "      <td>0.01</td>\n",
       "    </tr>\n",
       "    <tr>\n",
       "      <th>Bath &amp; Body</th>\n",
       "      <td>19092</td>\n",
       "      <td>0.01</td>\n",
       "    </tr>\n",
       "    <tr>\n",
       "      <th>Birthday Gifts</th>\n",
       "      <td>18978</td>\n",
       "      <td>0.01</td>\n",
       "    </tr>\n",
       "  </tbody>\n",
       "</table>\n",
       "</div>"
      ],
      "text/plain": [
       "                                        absolute_frequency  relative_frequency\n",
       "category                                                                      \n",
       "Sports & Outdoors                                   836265                0.34\n",
       "Beauty                                               19312                0.01\n",
       "Handmade Clothing, Shoes & Accessories               19229                0.01\n",
       "Bath & Body                                          19092                0.01\n",
       "Birthday Gifts                                       18978                0.01"
      ]
     },
     "execution_count": 43,
     "metadata": {},
     "output_type": "execute_result"
    }
   ],
   "source": [
    "top_five = df_freq_table.head(5)\n",
    "top_five"
   ]
  },
  {
   "cell_type": "markdown",
   "id": "9ef6be16-f8bf-4fbb-9cc9-a49bc73e90dd",
   "metadata": {},
   "source": [
    "The top5  most listed product categories are:"
   ]
  },
  {
   "cell_type": "code",
   "execution_count": 46,
   "id": "c3505126-6539-4d0f-8e1e-5d7fd76f817e",
   "metadata": {},
   "outputs": [
    {
     "name": "stdout",
     "output_type": "stream",
     "text": [
      "Sports & Outdoors\n",
      "Beauty\n",
      "Handmade Clothing, Shoes & Accessories\n",
      "Bath & Body\n",
      "Birthday Gifts\n"
     ]
    }
   ],
   "source": [
    "for x in top_five.index:\n",
    "    print(f\"{x}\")"
   ]
  },
  {
   "cell_type": "code",
   "execution_count": 48,
   "id": "8c24f845-1168-49d5-b221-7954b3256ce9",
   "metadata": {},
   "outputs": [
    {
     "data": {
      "image/png": "[encoded data removed]",
      "text/plain": [
       "<Figure size 640x480 with 1 Axes>"
      ]
     },
     "metadata": {},
     "output_type": "display_data"
    }
   ],
   "source": [
    "sns.barplot(\n",
    "    x=\"category\",\n",
    "    hue='category',\n",
    "    y='absolute_frequency',\n",
    "    data=df_freq_table.head(5),\n",
    "    palette='deep',\n",
    "    legend=True\n",
    ")\n",
    "plt.xticks([])\n",
    "plt.show()"
   ]
  },
  {
   "cell_type": "code",
   "execution_count": 50,
   "id": "ed0e5dfe-9fcf-4d6c-8343-4119c0fa44c3",
   "metadata": {},
   "outputs": [],
   "source": [
    "# Plotting above the absolute frequencies for the top 5 most listed product categories"
   ]
  },
  {
   "cell_type": "code",
   "execution_count": 52,
   "id": "c080bff5-f30b-492e-930f-ad49cd7473df",
   "metadata": {},
   "outputs": [
    {
     "data": {
      "image/png": "[encoded data removed]",
      "text/plain": [
       "<Figure size 800x600 with 1 Axes>"
      ]
     },
     "metadata": {},
     "output_type": "display_data"
    }
   ],
   "source": [
    "sizes = top_five['absolute_frequency']\n",
    "categories = top_five.index  # Access the category values from the index\n",
    "colors = sns.color_palette('deep', len(sizes))\n",
    "\n",
    "# Create figure and axes\n",
    "fig, ax = plt.subplots(figsize=(8, 6))\n",
    "\n",
    "# Draw pie chart without labels or autopct\n",
    "wedges, texts = ax.pie(\n",
    "    sizes,\n",
    "    startangle=90,\n",
    "    colors=colors,\n",
    "    labels=None,  # No category names inside the pie chart\n",
    "    wedgeprops=dict(width=0.3, edgecolor='white')  # Optional: styled wedges\n",
    ")\n",
    "\n",
    "# Add percentages outside the pie chart\n",
    "for i, (wedge, size) in enumerate(zip(wedges, sizes)):\n",
    "    angle = (wedge.theta2 - wedge.theta1) / 2 + wedge.theta1  # Midpoint angle\n",
    "    x = np.cos(np.radians(angle)) * 1.2  # Position outside slice (radius=1.2)\n",
    "    y = np.sin(np.radians(angle)) * 1.2\n",
    "\n",
    "    # Calculate percentage\n",
    "    percentage = f\"{size / sizes.sum() * 100:.2f}%\"\n",
    "    \n",
    "    # Rotate \"Sports & Outdoors\" label by 180 degrees\n",
    "    if categories[i] == \"Sports & Outdoors\":\n",
    "        rotation = angle + 180  # Rotate 180 degrees\n",
    "    else:\n",
    "        rotation = angle  # Keep other slices as they are\n",
    "\n",
    "    # Add percentage label with appropriate rotation\n",
    "    ax.text(x, y, percentage, ha='center', va='center', rotation=rotation, rotation_mode='anchor')\n",
    "\n",
    "# Adjust legend to the bottom-right of the pie chart, closer without overlapping\n",
    "ax.legend(\n",
    "    wedges,\n",
    "    categories,  # Use categories from the index for the legend\n",
    "    title=\"Category\",\n",
    "    loc='center left',  # Positioning legend at the left of the pie chart\n",
    "    bbox_to_anchor=(0.8, 0),  # Move the legend box closer, without overlap\n",
    "    frameon=False  # Remove legend border\n",
    ")\n",
    "\n",
    "# Remove default y-axis label\n",
    "plt.ylabel('')\n",
    "\n",
    "plt.show()"
   ]
  },
  {
   "cell_type": "markdown",
   "id": "c08f2af8-0cf2-490a-a35a-fa3774453bf6",
   "metadata": {},
   "source": [
    "Clearly, the \"Sports & Outdoors\" category dominates the listings by far!"
   ]
  },
  {
   "cell_type": "markdown",
   "id": "ecfe8cff-b710-4198-adc3-c3588efacbf0",
   "metadata": {},
   "source": [
    "# Part 2: Delving into Product Pricing"
   ]
  },
  {
   "cell_type": "markdown",
   "id": "bd5d6d7b-436b-4f74-8d04-d9fa72c5c044",
   "metadata": {},
   "source": [
    "## Business Question:\n",
    "\n",
    "How are products priced on Amazon UK, and are there specific price points or ranges that are more common?"
   ]
  },
  {
   "cell_type": "markdown",
   "id": "e683273e-5ff4-4cbb-82bb-35394fd2c18f",
   "metadata": {},
   "source": [
    "### 1. Measures of Centrality:"
   ]
  },
  {
   "cell_type": "markdown",
   "id": "20142338-f128-432c-a5c1-c92d88e2de71",
   "metadata": {},
   "source": [
    "Calculate the mean, median, and mode for the price of products."
   ]
  },
  {
   "cell_type": "code",
   "execution_count": 59,
   "id": "8844bb71-02ed-43ea-94e1-ba097e6b2a06",
   "metadata": {},
   "outputs": [
    {
     "data": {
      "text/plain": [
       "count    2443651.00\n",
       "mean          89.24\n",
       "std          345.61\n",
       "min            0.00\n",
       "25%            9.99\n",
       "50%           19.09\n",
       "75%           45.99\n",
       "max       100000.00\n",
       "Name: price, dtype: float64"
      ]
     },
     "execution_count": 59,
     "metadata": {},
     "output_type": "execute_result"
    }
   ],
   "source": [
    "round(df.price.describe(),2)"
   ]
  },
  {
   "cell_type": "code",
   "execution_count": 61,
   "id": "a324aec4-8096-4f0e-836b-67d1283c2670",
   "metadata": {
    "scrolled": true
   },
   "outputs": [
    {
     "name": "stdout",
     "output_type": "stream",
     "text": [
      "price mean is 89.24\n",
      "price median is 19.09\n",
      "price mode is 9.99\n"
     ]
    }
   ],
   "source": [
    "mean_price=round(df.price.mean(),2)\n",
    "median_price=round(df.price.median(),2)\n",
    "mode_price=round(df.price.mode(),2)\n",
    "print(f\"price mean is {mean_price}\")\n",
    "print(f\"price median is {median_price}\")\n",
    "print(f\"price mode is {mode_price[0]}\")"
   ]
  },
  {
   "cell_type": "markdown",
   "id": "5823808c-2427-4815-819b-4451ee9ac37d",
   "metadata": {},
   "source": [
    "What's the average price point of products listed? How does this compare with the most common price point (mode)?"
   ]
  },
  {
   "cell_type": "markdown",
   "id": "86e96f55-3dae-4dc1-b630-b28e32ec0731",
   "metadata": {},
   "source": [
    "_The average price point of products listed is £89.24, which is almost £80 more expensive than the most common price point (mode) of £9.99. This already indicates that the distribution of prices is positively skewed, where some products have really high prices, pulling the mean above the majority of product prices._"
   ]
  },
  {
   "cell_type": "code",
   "execution_count": 65,
   "id": "2a515497-7bec-4d6e-8fec-c9cbcc44b043",
   "metadata": {},
   "outputs": [
    {
     "data": {
      "text/plain": [
       "price\n",
       "9.99       48922\n",
       "12.99      38823\n",
       "8.99       34058\n",
       "7.99       33632\n",
       "14.99      32570\n",
       "           ...  \n",
       "2398.99        1\n",
       "1453.08        1\n",
       "1785.63        1\n",
       "1347.36        1\n",
       "317.34         1\n",
       "Name: count, Length: 82916, dtype: int64"
      ]
     },
     "execution_count": 65,
     "metadata": {},
     "output_type": "execute_result"
    }
   ],
   "source": [
    "df.price.value_counts()"
   ]
  },
  {
   "cell_type": "markdown",
   "id": "b8f3947e-c55d-4b1f-9ed5-c610f4c4e622",
   "metadata": {},
   "source": [
    "### 2. Measures of Dispersion:"
   ]
  },
  {
   "cell_type": "markdown",
   "id": "b78a534c-bc62-44af-8de2-7359aeae9ed0",
   "metadata": {},
   "source": [
    "Determine the variance, standard deviation, range, and interquartile range for product price."
   ]
  },
  {
   "cell_type": "code",
   "execution_count": 69,
   "id": "89b8a92e-06c5-47b4-b167-d189442dd391",
   "metadata": {},
   "outputs": [
    {
     "name": "stdout",
     "output_type": "stream",
     "text": [
      "price variance is 119445.49\n",
      "price standard deviation is 345.61\n",
      "price range is 100000\n",
      "price interquartile range is 36\n"
     ]
    }
   ],
   "source": [
    "price_var=round(df.price.var(),2)\n",
    "price_std=round(df.price.std(),2)\n",
    "price_range=int(df.price.max()-df.price.min())\n",
    "price_interquartile=int(df.price.quantile(0.75)-df.price.quantile(0.25))\n",
    "print(f\"price variance is {price_var}\")\n",
    "print(f\"price standard deviation is {price_std}\")\n",
    "print(f\"price range is {price_range}\")\n",
    "print(f\"price interquartile range is {price_interquartile}\")"
   ]
  },
  {
   "cell_type": "markdown",
   "id": "5dee90c7-1f35-4ba8-bfd5-3ecef64e22c5",
   "metadata": {},
   "source": [
    "How varied are the product prices? Are there any indicators of a significant spread in prices?"
   ]
  },
  {
   "cell_type": "markdown",
   "id": "93f6a996-35c4-4498-894b-e7a09a8628d2",
   "metadata": {},
   "source": [
    "_Product prices vary significantly, with a wide range and high variance. Considering the relatively small interquartile range (£36), it suggests the presence of numerous outliers, indicating many extreme price values._"
   ]
  },
  {
   "cell_type": "markdown",
   "id": "61590e85-2c9a-49d1-aed6-ada5b67e1b7e",
   "metadata": {},
   "source": [
    "### 3. Visualizations:"
   ]
  },
  {
   "cell_type": "markdown",
   "id": "25dc85ee-ae84-4280-bb51-a1514ce079b3",
   "metadata": {},
   "source": [
    "Is there a specific price range where most products fall? Plot a histogram to visualize the distribution of product prices. If its hard to read these diagrams, think why this is, and explain how it could be solved.."
   ]
  },
  {
   "cell_type": "code",
   "execution_count": 75,
   "id": "a55f6710-2383-40d5-b002-75709f4b9ef8",
   "metadata": {},
   "outputs": [
    {
     "data": {
      "image/png": "[encoded data removed]",
      "text/plain": [
       "<Figure size 640x480 with 1 Axes>"
      ]
     },
     "metadata": {},
     "output_type": "display_data"
    }
   ],
   "source": [
    "sns.histplot(df.price, bins=30, color=\"purple\")\n",
    "plt.show()"
   ]
  },
  {
   "cell_type": "markdown",
   "id": "7905d5f3-8249-487e-83fc-87494f179f04",
   "metadata": {},
   "source": [
    "There is a huge difference from the first bar (that can see) and the much rarer counts for higher prices... One could almost say there is an *exponencial* difference. Best thing to try is to apply a logarythmic transformation to the x-axis."
   ]
  },
  {
   "cell_type": "code",
   "execution_count": 78,
   "id": "5192d9d6-929f-4b54-b368-e9cf5f002e27",
   "metadata": {},
   "outputs": [
    {
     "data": {
      "image/png": "[encoded data removed]",
      "text/plain": [
       "<Figure size 640x480 with 1 Axes>"
      ]
     },
     "metadata": {},
     "output_type": "display_data"
    }
   ],
   "source": [
    "df['log_price'] = np.log1p(df.price) #log1p is better than log() when dealing with a lot of values near zero\n",
    "\n",
    "sns.histplot(df['log_price'], bins=30, kde=True, color=\"purple\")\n",
    "plt.xlabel(\"Price\")\n",
    "plt.ylabel(\"counts\")\n",
    "plt.title(\"Price Distribution (Log Scale)\")\n",
    "ticks = [0, 1, 2, 3, 4, 5, 6, 7, 8, 9, 10]  # log1p values\n",
    "tick_labels = [np.expm1(tick) for tick in ticks]  # Convert log1p back to natural values\n",
    "\n",
    "for i, val in enumerate(tick_labels):\n",
    "    if val <= 4000:\n",
    "        tick_labels[i] = int(val)\n",
    "    else:\n",
    "        tick_labels[i] = \">4000\"\n",
    "        \n",
    "found_4000 = False\n",
    "\n",
    "for i, val in enumerate(tick_labels):\n",
    "    if val == \">4000\" and not found_4000:\n",
    "        tick_labels[i] = \">4000\"  # Keep the first \">4000\"\n",
    "        found_4000 = True  # Mark that we have found it\n",
    "    elif found_4000:\n",
    "        tick_labels[i] = \"\"  # Replace subsequent values with an empty string\n",
    "\n",
    "\n",
    "plt.xticks(ticks, tick_labels)\n",
    "plt.xticks(rotation=45)\n",
    "plt.show()"
   ]
  },
  {
   "cell_type": "markdown",
   "id": "0d55ba63-9fbd-492f-ab15-d37bee160c1c",
   "metadata": {},
   "source": [
    "_We can see that the majority of prices fall between £6 and £53._"
   ]
  },
  {
   "cell_type": "markdown",
   "id": "22e8c8ff-9b04-4ea0-82fa-0cb57aec104f",
   "metadata": {},
   "source": [
    "Are there products that are priced significantly higher than the rest? Use a box plot to showcase the spread and potential outliers in product pricing"
   ]
  },
  {
   "cell_type": "code",
   "execution_count": 82,
   "id": "6e9f7116-4c2a-4711-bc69-182cd766afc2",
   "metadata": {},
   "outputs": [
    {
     "data": {
      "image/png": "[encoded data removed]",
      "text/plain": [
       "<Figure size 640x480 with 1 Axes>"
      ]
     },
     "metadata": {},
     "output_type": "display_data"
    }
   ],
   "source": [
    "sns.boxplot(data=df['log_price'], color=\"pink\")\n",
    "plt.xticks([0], ['Price (Log-Transformed)'])\n",
    "\n",
    "# Example of modifying labels (if you had multiple categories on x-axis, you could adapt similarly)\n",
    "# If you want to replace specific categories or values in the ticks, do so as needed:\n",
    "# Let's assume you have tick labels, and want to set the first label to a custom value\n",
    "\n",
    "# Customize the x-axis labels after plotting\n",
    "ticks = plt.gca().get_yticks()\n",
    "\n",
    "# Transform the ticks back to natural scale (exp1p = exp(x) - 1)\n",
    "tick_labels = [np.expm1(tick) for tick in ticks]  # Convert log1p back to natural values\n",
    "\n",
    "tick_labels = [f\"{int(val)}\" if val <= 1200000 else \"\" for val in tick_labels]\n",
    "        \n",
    "# Update the y-axis ticks with the transformed labels\n",
    "plt.yticks(ticks, tick_labels)\n",
    "\n",
    "plt.title(\"Price Distribution (Log Scale)\")\n",
    "plt.ylabel(\"Price\")\n",
    "\n",
    "plt.ylim(-1, df['log_price'].max()) \n",
    "\n",
    "plt.xticks([])\n",
    "# Show the plot\n",
    "plt.show()"
   ]
  },
  {
   "cell_type": "markdown",
   "id": "18420b56-eaf2-4042-882d-48fd4d9b4c8a",
   "metadata": {},
   "source": [
    "_Yes, absolutely: there are products that are priced significantly higher than the rest (almost £100000), and a fewer cases of products with signifficantly lower prices (£0)._"
   ]
  },
  {
   "cell_type": "markdown",
   "id": "4bf19b80-81ed-4fe3-8470-4fde7a5584fe",
   "metadata": {},
   "source": [
    "# Part 3: Unpacking Product Ratings\n"
   ]
  },
  {
   "cell_type": "markdown",
   "id": "4e273072-934c-479f-87e0-7a6b1a18381c",
   "metadata": {},
   "source": [
    "## Business Question:\n",
    "How do customers rate products on Amazon UK, and are there any patterns or tendencies in the ratings?"
   ]
  },
  {
   "cell_type": "markdown",
   "id": "76cde0bc-d248-4907-912d-be7691373ce8",
   "metadata": {},
   "source": [
    "### 1. Measures of Centrality:"
   ]
  },
  {
   "cell_type": "markdown",
   "id": "0856c52c-9332-4f69-b91f-368be2a29aeb",
   "metadata": {},
   "source": [
    "Calculate the mean, median, and mode for the rating of products."
   ]
  },
  {
   "cell_type": "code",
   "execution_count": 90,
   "id": "dd1ae85b-2d41-4ab6-9dc9-85c6030f73d1",
   "metadata": {},
   "outputs": [
    {
     "data": {
      "text/plain": [
       "count    2443651.00\n",
       "mean           2.15\n",
       "std            2.19\n",
       "min            0.00\n",
       "25%            0.00\n",
       "50%            0.00\n",
       "75%            4.40\n",
       "max            5.00\n",
       "Name: stars, dtype: float64"
      ]
     },
     "execution_count": 90,
     "metadata": {},
     "output_type": "execute_result"
    }
   ],
   "source": [
    "round(df.stars.describe(),2)"
   ]
  },
  {
   "cell_type": "code",
   "execution_count": 92,
   "id": "98a394f5-208d-4fca-9a04-56e7c8e1b68f",
   "metadata": {},
   "outputs": [
    {
     "name": "stdout",
     "output_type": "stream",
     "text": [
      "mean rating is 2.15 stars\n",
      "median rating is 0.0 stars\n",
      "mode rating is 0.0 stars\n"
     ]
    }
   ],
   "source": [
    "mean_stars=round(df.stars.mean(),2)\n",
    "median_stars=round(df.stars.median(),2)\n",
    "mode_stars=round(df.stars.mode(),2)\n",
    "print(f\"mean rating is {mean_stars} stars\")\n",
    "print(f\"median rating is {median_stars} stars\")\n",
    "print(f\"mode rating is {mode_stars[0]} stars\")"
   ]
  },
  {
   "cell_type": "markdown",
   "id": "bcb0f389-45c7-4903-8ddc-791e352d5f5c",
   "metadata": {},
   "source": [
    "How do customers generally rate products? Is there a common trend?"
   ]
  },
  {
   "cell_type": "markdown",
   "id": "0b3c5991-5f8f-4fe4-be3a-f62e3d2c2c53",
   "metadata": {},
   "source": [
    "_There seems to be a common trend where the most frequent rating for Amazon UK products is 0 stars, as indicated by both the median and mode being 0. The mean rating, which is lower than 2.5 stars, suggests that many products receive low or no ratings, indicating a skewed distribution of ratings._"
   ]
  },
  {
   "cell_type": "markdown",
   "id": "450906f7-2403-45f9-9ee0-2805b1a40883",
   "metadata": {},
   "source": [
    "### 2. Measures of Dispersion:"
   ]
  },
  {
   "cell_type": "markdown",
   "id": "a7191919-b4bc-4b19-b550-e7f6562dff4b",
   "metadata": {},
   "source": [
    "Determine the variance, standard deviation, and interquartile range for product rating."
   ]
  },
  {
   "cell_type": "code",
   "execution_count": 98,
   "id": "95c29189-ed5c-426d-8d23-4ced6c0be867",
   "metadata": {},
   "outputs": [
    {
     "name": "stdout",
     "output_type": "stream",
     "text": [
      "rating variance is 4.82\n",
      "rating standard deviation is 2.19\n",
      "rating range is 5\n",
      "rating interquartile range is 4\n"
     ]
    }
   ],
   "source": [
    "stars_var=round(df.stars.var(),2)\n",
    "stars_std=round(df.stars.std(),2)\n",
    "stars_range=int(df.stars.max()-df.stars.min())\n",
    "stars_interquartile=int(df.stars.quantile(0.75)-df.stars.quantile(0.25))\n",
    "print(f\"rating variance is {stars_var}\")\n",
    "print(f\"rating standard deviation is {stars_std}\")\n",
    "print(f\"rating range is {stars_range}\")\n",
    "print(f\"rating interquartile range is {stars_interquartile}\")"
   ]
  },
  {
   "cell_type": "markdown",
   "id": "ed5ce56d-c688-449b-9478-fb81e4e7cc2d",
   "metadata": {},
   "source": [
    "Are the ratings consistent, or is there a wide variation in customer feedback?"
   ]
  },
  {
   "cell_type": "markdown",
   "id": "a8b7175d-be65-4bd6-bd8d-7cd805256c85",
   "metadata": {},
   "source": [
    "_Yes, there is a wide variation in customer feedback. The ratings are not very consistent - they spread across the entire scale -, with a large spread between the lowest and highest ratings, and considerable dispersion in the data (as shown by the high standard deviation and interquartile range). This suggests that customers have a wide range of opinions about the products, with some products receiving very low ratings, while others receive higher ratings._"
   ]
  },
  {
   "cell_type": "markdown",
   "id": "7c3ec7a8-c3ba-4468-acbe-e4210dd3b668",
   "metadata": {},
   "source": [
    "### 3. Shape of the Distribution:"
   ]
  },
  {
   "cell_type": "markdown",
   "id": "01f09fd0-d946-4b0a-8a62-4b4ff77544c8",
   "metadata": {},
   "source": [
    "Calculate the skewness and kurtosis for the rating column."
   ]
  },
  {
   "cell_type": "code",
   "execution_count": 104,
   "id": "bdf0e4da-d384-4c4e-8844-16176d5d8299",
   "metadata": {},
   "outputs": [
    {
     "name": "stdout",
     "output_type": "stream",
     "text": [
      "rating skewness is 0.08120730776283354\n",
      "rating kurtosis is -1.926004642549839\n"
     ]
    }
   ],
   "source": [
    "rating_skewness = skew(df.stars)\n",
    "rating_kurtosis = kurtosis(df.stars)\n",
    "print(f\"rating skewness is {rating_skewness}\")\n",
    "print(f\"rating kurtosis is {rating_kurtosis}\")"
   ]
  },
  {
   "cell_type": "markdown",
   "id": "f3aaade7-313d-44db-9ced-4e06a7fe4384",
   "metadata": {},
   "source": [
    "Are the ratings normally distributed, or do they lean towards higher or lower values?"
   ]
  },
  {
   "cell_type": "markdown",
   "id": "7e75a57d-88c4-41f9-89c6-bea3cd668fa6",
   "metadata": {},
   "source": [
    "_The ratings are not normally distributed: they have thinner tails and a flatter peak (negative kurtosis), and exhibit a slight positive skew (slightly longer tail on the right side, with tThe bulk oe dat mores concentrated on the lef.)._"
   ]
  },
  {
   "cell_type": "markdown",
   "id": "7522f064-a499-4cc4-aaa5-aa0c1802f421",
   "metadata": {},
   "source": [
    "### 4. Visualizations:"
   ]
  },
  {
   "cell_type": "markdown",
   "id": "f832cfa6-e66f-46c5-8e56-8895bceb689b",
   "metadata": {},
   "source": [
    "Plot a histogram to visualize the distribution of product ratings. Is there a specific rating that is more common?"
   ]
  },
  {
   "cell_type": "code",
   "execution_count": 110,
   "id": "c51d9ade-962e-411b-8f92-f57b0d79a61b",
   "metadata": {},
   "outputs": [
    {
     "data": {
      "image/png": "[encoded data removed]",
      "text/plain": [
       "<Figure size 640x480 with 1 Axes>"
      ]
     },
     "metadata": {},
     "output_type": "display_data"
    }
   ],
   "source": [
    "sns.histplot(df.stars, bins=10, color=\"purple\")\n",
    "plt.show()"
   ]
  },
  {
   "cell_type": "markdown",
   "id": "aec258e8-784b-476e-b5d2-4575cdd86a28",
   "metadata": {},
   "source": [
    "_Yes, the most common rating is clearly 0 stars._"
   ]
  },
  {
   "cell_type": "markdown",
   "id": "bd02f52e-bc3a-4943-8b64-20910e3afab4",
   "metadata": {},
   "source": [
    "# Business-centric report summarizing key findings"
   ]
  },
  {
   "cell_type": "code",
   "execution_count": 114,
   "id": "275abb19-8c0c-40d9-9fdd-70a274f68878",
   "metadata": {},
   "outputs": [],
   "source": [
    "# I actually need help with this, any guide-lines would be nice!"
   ]
  },
  {
   "cell_type": "markdown",
   "id": "1f41aab2-a8fa-46d7-8d44-1bce2e4b0f39",
   "metadata": {},
   "source": [
    "# Key Conclusion: Alignment of Categories, Pricing, and Ratings\n",
    "\n",
    "There is a misalignment between product offerings, pricing strategies, and customer satisfaction.\n",
    "\n",
    "### Product Categories:\n",
    "Strength in Sports & Outdoors should guide investment and innovation. Underrepresented categories could be expanded to address the signifficant discrepancy with other categories (unless Amazon UK wants to specialize exclusively in Sports & Outdoors).\n",
    "\n",
    "### Pricing Strategy:\n",
    "While lower prices are more appealing to customers, and indeed the majority of prices are in lower tiers, we can see that for Amazon UK premium offerings are rarer (outliers) but extreme, with a high range between the maximum price (£1000000) and the minimum price (£0) apliedd. This can have an impact in customer behaviour: customers looking for more expensive products might not go for Amazon UK, where premium offers are rare, except if this products have clearer value and quality proposition.\n",
    "\n",
    "### Customer Feedback:\n",
    "Low ratings and engagement reveal potential dissatisfaction or weak customer connections, signaling a need for better product quality, communication (making sure product descriptions are reflecting the actual product experience by the customers), or support.\n",
    "\n",
    "\n",
    "\n",
    "### By harmonizing category offerings, refining pricing strategies, and enhancing customer satisfaction, the business can capitalize on strengths, going for a more diverse set of accessible products, with fewer, high-quality expensive items to cater to different customer segments effectively."
   ]
  },
  {
   "cell_type": "code",
   "execution_count": null,
   "id": "72232e1e-cb2c-42df-ad9a-691aa3f73a77",
   "metadata": {},
   "outputs": [],
   "source": []
  }
 ],
 "metadata": {
  "kernelspec": {
   "display_name": "Python 3 (ipykernel)",
   "language": "python",
   "name": "python3"
  },
  "language_info": {
   "codemirror_mode": {
    "name": "ipython",
    "version": 3
   },
   "file_extension": ".py",
   "mimetype": "text/x-python",
   "name": "python",
   "nbconvert_exporter": "python",
   "pygments_lexer": "ipython3",
   "version": "3.12.4"
  }
 },
 "nbformat": 4,
 "nbformat_minor": 5
}
