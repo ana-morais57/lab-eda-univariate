{
 "cells": [
  {
   "cell_type": "markdown",
   "id": "181048e2",
   "metadata": {},
   "source": [
    "![elgif](https://media.giphy.com/media/coxQHKASG60HrHtvkt/giphy.gif)"
   ]
  },
  {
   "cell_type": "markdown",
   "id": "813ac079-1796-4acf-9bd9-90702cb870d8",
   "metadata": {
    "tags": []
   },
   "source": [
    "<h1 style=\"color: #00BFFF;\">Prework review - Data types and Data structures</h1>"
   ]
  },
  {
   "cell_type": "markdown",
   "id": "be6c0098-5bdf-44d5-be00-4092f33415eb",
   "metadata": {},
   "source": [
    "<h2 style=\"color: #008080;\">Data Types </h2>"
   ]
  },
  {
   "cell_type": "markdown",
   "id": "3e17c061-b60d-4476-b16c-1c76c0554040",
   "metadata": {},
   "source": [
    "Let's review the fundamental data types (*objects*) in Python:\n",
    "\n",
    "- Integer: Represents whole numbers (e.g., 10, 3, -5, 0).\n",
    "- Float: Represents decimal numbers (e.g., 20.2, 100.2403, -5.50).\n",
    "- String: Represents text or a group of characters (e.g., \"Hello, World!\", \"Python\").\n",
    "  - categorical data\n",
    "- Boolean: Represents either True or False.\n",
    "\n",
    "The `type()` function is used to check the data type of a variable."
   ]
  },
  {
   "cell_type": "code",
   "execution_count": 7,
   "id": "06d62775-fea5-44a1-9fc1-66400473e6bb",
   "metadata": {},
   "outputs": [],
   "source": [
    "example = 1"
   ]
  },
  {
   "cell_type": "code",
   "execution_count": 9,
   "id": "18e5f3be-3d83-4a88-b88c-751d418cb0b9",
   "metadata": {},
   "outputs": [
    {
     "data": {
      "text/plain": [
       "1"
      ]
     },
     "execution_count": 9,
     "metadata": {},
     "output_type": "execute_result"
    }
   ],
   "source": [
    "example.bit_count()"
   ]
  },
  {
   "cell_type": "code",
   "execution_count": 11,
   "id": "ba29938e-1b38-44a7-9be9-5ec4c4593ac1",
   "metadata": {},
   "outputs": [],
   "source": [
    "test = 2.5"
   ]
  },
  {
   "cell_type": "code",
   "execution_count": 13,
   "id": "844fb826-4a47-45c0-a724-4acf59617f76",
   "metadata": {
    "scrolled": true
   },
   "outputs": [
    {
     "data": {
      "text/plain": [
       "False"
      ]
     },
     "execution_count": 13,
     "metadata": {},
     "output_type": "execute_result"
    }
   ],
   "source": [
    "test.is_integer()"
   ]
  },
  {
   "cell_type": "code",
   "execution_count": 15,
   "id": "626bb746-4a8e-4fb9-a8da-02adca7e24f1",
   "metadata": {},
   "outputs": [],
   "source": [
    "test2 = \"1\""
   ]
  },
  {
   "cell_type": "code",
   "execution_count": 23,
   "id": "a3e2ee0c-cce2-4fe1-866a-6172b1e8ad15",
   "metadata": {
    "scrolled": true
   },
   "outputs": [
    {
     "data": {
      "text/plain": [
       "0"
      ]
     },
     "execution_count": 23,
     "metadata": {},
     "output_type": "execute_result"
    }
   ],
   "source": [
    "test2.index(\"1\")"
   ]
  },
  {
   "cell_type": "code",
   "execution_count": 26,
   "id": "d4ddce91-f24a-49f2-b35d-268b5453ecad",
   "metadata": {},
   "outputs": [],
   "source": [
    "# integers\n",
    "1\n",
    "example = 1"
   ]
  },
  {
   "cell_type": "code",
   "execution_count": 28,
   "id": "a9f34a24-9b72-4a28-9576-849911a08569",
   "metadata": {},
   "outputs": [],
   "source": [
    "# floats\n",
    "2.3\n",
    "example_2 = 2.3"
   ]
  },
  {
   "cell_type": "code",
   "execution_count": 32,
   "id": "669633dd-393e-4246-ae09-b067bc988d68",
   "metadata": {},
   "outputs": [],
   "source": [
    "# strings\n",
    "\"Isidre\"\n",
    "'Isidre'\n",
    "\"L'Isidre\"\n",
    "'L\\'Isidre'\n",
    "\n",
    "example_3 = \"Isidre\""
   ]
  },
  {
   "cell_type": "code",
   "execution_count": 34,
   "id": "5daf87a3-2095-4f02-b055-bc125be1f610",
   "metadata": {},
   "outputs": [],
   "source": [
    "# booleans\n",
    "True\n",
    "False\n",
    "\n",
    "example_4 = False"
   ]
  },
  {
   "cell_type": "code",
   "execution_count": 40,
   "id": "600e2215-7891-4593-9c45-5ffff4d65877",
   "metadata": {
    "scrolled": true
   },
   "outputs": [
    {
     "data": {
      "text/plain": [
       "False"
      ]
     },
     "execution_count": 40,
     "metadata": {},
     "output_type": "execute_result"
    }
   ],
   "source": [
    "True == 0"
   ]
  },
  {
   "cell_type": "code",
   "execution_count": 42,
   "id": "02df772f-750a-4540-9dd4-78d4621e64e4",
   "metadata": {
    "scrolled": true
   },
   "outputs": [
    {
     "data": {
      "text/plain": [
       "True"
      ]
     },
     "execution_count": 42,
     "metadata": {},
     "output_type": "execute_result"
    }
   ],
   "source": [
    "True == 1"
   ]
  },
  {
   "cell_type": "code",
   "execution_count": 44,
   "id": "d549d7bc-3db8-4b56-a78c-9bbd74ddc133",
   "metadata": {
    "scrolled": true
   },
   "outputs": [
    {
     "data": {
      "text/plain": [
       "True"
      ]
     },
     "execution_count": 44,
     "metadata": {},
     "output_type": "execute_result"
    }
   ],
   "source": [
    "False == 0"
   ]
  },
  {
   "cell_type": "code",
   "execution_count": 46,
   "id": "4d9a672f-c59b-410b-82f6-767528d73929",
   "metadata": {},
   "outputs": [
    {
     "data": {
      "text/plain": [
       "bool"
      ]
     },
     "execution_count": 46,
     "metadata": {},
     "output_type": "execute_result"
    }
   ],
   "source": [
    "type(True)"
   ]
  },
  {
   "cell_type": "code",
   "execution_count": 48,
   "id": "bdbe8804-7229-4350-9969-582cd191f23e",
   "metadata": {
    "scrolled": true
   },
   "outputs": [
    {
     "data": {
      "text/plain": [
       "bool"
      ]
     },
     "execution_count": 48,
     "metadata": {},
     "output_type": "execute_result"
    }
   ],
   "source": [
    "type(example_4)"
   ]
  },
  {
   "cell_type": "code",
   "execution_count": 56,
   "id": "38353e26-b736-4716-ab78-4ecfb6e84708",
   "metadata": {},
   "outputs": [
    {
     "data": {
      "text/plain": [
       "int"
      ]
     },
     "execution_count": 56,
     "metadata": {},
     "output_type": "execute_result"
    }
   ],
   "source": [
    "type(example)"
   ]
  },
  {
   "cell_type": "code",
   "execution_count": 58,
   "id": "2b40311a-58df-4a4f-b096-1929d72b97f8",
   "metadata": {},
   "outputs": [
    {
     "data": {
      "text/plain": [
       "float"
      ]
     },
     "execution_count": 58,
     "metadata": {},
     "output_type": "execute_result"
    }
   ],
   "source": [
    "type(example_2)"
   ]
  },
  {
   "cell_type": "code",
   "execution_count": 60,
   "id": "c13e89e3-9524-46d7-bd21-33cc75c5a57e",
   "metadata": {},
   "outputs": [
    {
     "data": {
      "text/plain": [
       "str"
      ]
     },
     "execution_count": 60,
     "metadata": {},
     "output_type": "execute_result"
    }
   ],
   "source": [
    "type(example_3)"
   ]
  },
  {
   "cell_type": "code",
   "execution_count": 52,
   "id": "7e5ced41-8a41-4a75-be0e-e56094a742c1",
   "metadata": {},
   "outputs": [],
   "source": [
    "# Never change the value of True or False:\n",
    "# True = 3\n",
    "# False =4\n",
    "\n",
    "#Never do this!"
   ]
  },
  {
   "cell_type": "markdown",
   "id": "c3c20489-0f56-4da5-8454-1591a6b47c80",
   "metadata": {},
   "source": [
    "Type() - only considers the first index value. # don't worry about this"
   ]
  },
  {
   "cell_type": "code",
   "execution_count": 72,
   "id": "ab28068d-58fe-4e75-82e4-15da28b43df8",
   "metadata": {},
   "outputs": [],
   "source": [
    "list_a = [\"a\", 2, \"t\", \"d\", 5]"
   ]
  },
  {
   "cell_type": "code",
   "execution_count": 74,
   "id": "d6ba6a05-1e5c-4f9d-9e7d-1a34d543f864",
   "metadata": {},
   "outputs": [
    {
     "data": {
      "text/plain": [
       "list"
      ]
     },
     "execution_count": 74,
     "metadata": {},
     "output_type": "execute_result"
    }
   ],
   "source": [
    "type(list_a)"
   ]
  },
  {
   "cell_type": "code",
   "execution_count": 76,
   "id": "7f0e94c1-e255-49f0-b17b-0a8f11898567",
   "metadata": {},
   "outputs": [],
   "source": [
    "list_b = [\"a\", \"b\", \"c\", \"d\"]"
   ]
  },
  {
   "cell_type": "code",
   "execution_count": 78,
   "id": "7c64e049-2d29-46be-a8fd-4425f2e3151f",
   "metadata": {},
   "outputs": [
    {
     "data": {
      "text/plain": [
       "list"
      ]
     },
     "execution_count": 78,
     "metadata": {},
     "output_type": "execute_result"
    }
   ],
   "source": [
    "type(list_b)"
   ]
  },
  {
   "cell_type": "code",
   "execution_count": 82,
   "id": "57478fc8-cb15-4d4a-b714-383640983db0",
   "metadata": {},
   "outputs": [],
   "source": [
    "list_c = [1, 2, 3, 4, 5]"
   ]
  },
  {
   "cell_type": "code",
   "execution_count": 84,
   "id": "fe5db784-084f-44cb-825b-76b30af90559",
   "metadata": {},
   "outputs": [
    {
     "data": {
      "text/plain": [
       "list"
      ]
     },
     "execution_count": 84,
     "metadata": {},
     "output_type": "execute_result"
    }
   ],
   "source": [
    "type(list_c)"
   ]
  },
  {
   "cell_type": "markdown",
   "id": "43514b9a-6595-430f-9550-92a68a063840",
   "metadata": {},
   "source": [
    "floats are bigger in terms of memory"
   ]
  },
  {
   "cell_type": "markdown",
   "id": "16dc4a43-6f9d-4f8d-b946-3fb5e67d4cb3",
   "metadata": {},
   "source": [
    "**Observation**"
   ]
  },
  {
   "cell_type": "markdown",
   "id": "38f2e106-8493-4df2-bd0c-9156462ea18b",
   "metadata": {},
   "source": [
    "In Python, Boolean values (True and False) are implicitly treated as integers, with True being equivalent to 1 and False being equivalent to 0."
   ]
  },
  {
   "cell_type": "code",
   "execution_count": null,
   "id": "ad7eae17-7f17-45fe-a187-4dd70e58c7e1",
   "metadata": {},
   "outputs": [],
   "source": []
  },
  {
   "cell_type": "markdown",
   "id": "3fae62dd-08db-4d54-a95f-8eb673ebba9b",
   "metadata": {},
   "source": [
    "### Arithmetic Operators "
   ]
  },
  {
   "cell_type": "markdown",
   "id": "1295c68f-a366-4459-80ab-bbc8502842f4",
   "metadata": {},
   "source": [
    "Arithmetic operators are used to perform mathematical calculations on numeric data types.\n",
    "- (+): Adds values.\n",
    "- (-): Subtracts values.\n",
    "- (*): Multiplies values.\n",
    "- (/): Divides values.\n",
    "- (//): Performs integer division.\n",
    "- (%): Returns remainder of division.\n",
    "- (**): Raises a value to a power.\n",
    "\n",
    "Arithmetic operators on strings in Python:\n",
    "\n",
    "- Addition (+): Concatenates two strings.\n",
    "- Multiplication (*): Repeats a string.\n",
    "- Others (-, /, %, **): Not applicable to strings."
   ]
  },
  {
   "cell_type": "code",
   "execution_count": 86,
   "id": "8f3e6d6f-61e3-4b65-93d7-de7684adb1b7",
   "metadata": {},
   "outputs": [
    {
     "data": {
      "text/plain": [
       "3.3"
      ]
     },
     "execution_count": 86,
     "metadata": {},
     "output_type": "execute_result"
    }
   ],
   "source": [
    "example + example_2"
   ]
  },
  {
   "cell_type": "code",
   "execution_count": 88,
   "id": "75378697-4ae9-4511-96de-33024baf6657",
   "metadata": {},
   "outputs": [
    {
     "data": {
      "text/plain": [
       "'Isidrefruit'"
      ]
     },
     "execution_count": 88,
     "metadata": {},
     "output_type": "execute_result"
    }
   ],
   "source": [
    "example_3 + \"fruit\" # because examle_3 is a string, the \"+\" operator is going to concatenate"
   ]
  },
  {
   "cell_type": "code",
   "execution_count": 95,
   "id": "e0b5ae06-a29e-42b5-b23b-222dfee2d88b",
   "metadata": {},
   "outputs": [
    {
     "data": {
      "text/plain": [
       "'1fruit'"
      ]
     },
     "execution_count": 95,
     "metadata": {},
     "output_type": "execute_result"
    }
   ],
   "source": [
    "\"1\" + \"fruit\""
   ]
  },
  {
   "cell_type": "code",
   "execution_count": 101,
   "id": "e95fa9f1-38e6-4525-ba56-765db49144ca",
   "metadata": {},
   "outputs": [
    {
     "data": {
      "text/plain": [
       "'Hello World'"
      ]
     },
     "execution_count": 101,
     "metadata": {},
     "output_type": "execute_result"
    }
   ],
   "source": [
    "# afternoon lesson starts here:\n",
    "\"Hello\" + \" \" + \"World\""
   ]
  },
  {
   "cell_type": "code",
   "execution_count": 125,
   "id": "ed1c4c90-68dd-4405-87bd-3ee145a41271",
   "metadata": {},
   "outputs": [
    {
     "data": {
      "text/plain": [
       "'Hello World'"
      ]
     },
     "execution_count": 125,
     "metadata": {},
     "output_type": "execute_result"
    }
   ],
   "source": [
    "\"Hello\" + \" World\""
   ]
  },
  {
   "cell_type": "code",
   "execution_count": 123,
   "id": "5cf826a7-e7b3-4cf5-93cd-27527193bb04",
   "metadata": {},
   "outputs": [
    {
     "ename": "TypeError",
     "evalue": "unsupported operand type(s) for -: 'str' and 'str'",
     "output_type": "error",
     "traceback": [
      "\u001b[1;31m---------------------------------------------------------------------------\u001b[0m",
      "\u001b[1;31mTypeError\u001b[0m                                 Traceback (most recent call last)",
      "Cell \u001b[1;32mIn[123], line 1\u001b[0m\n\u001b[1;32m----> 1\u001b[0m \u001b[38;5;124m\"\u001b[39m\u001b[38;5;124mHello\u001b[39m\u001b[38;5;124m\"\u001b[39m \u001b[38;5;241m-\u001b[39m \u001b[38;5;124m\"\u001b[39m\u001b[38;5;124mWorld\u001b[39m\u001b[38;5;124m\"\u001b[39m\n",
      "\u001b[1;31mTypeError\u001b[0m: unsupported operand type(s) for -: 'str' and 'str'"
     ]
    }
   ],
   "source": [
    "\"Hello\" - \"World\""
   ]
  },
  {
   "cell_type": "code",
   "execution_count": 121,
   "id": "8e571c36-8c82-4de1-b397-d60497657d60",
   "metadata": {},
   "outputs": [
    {
     "data": {
      "text/plain": [
       "'HelloHelloHello'"
      ]
     },
     "execution_count": 121,
     "metadata": {},
     "output_type": "execute_result"
    }
   ],
   "source": [
    "\"Hello\" * 3"
   ]
  },
  {
   "cell_type": "code",
   "execution_count": 119,
   "id": "9f1d70f5-13f0-44a0-8e1e-51e2522acde2",
   "metadata": {},
   "outputs": [
    {
     "ename": "TypeError",
     "evalue": "can't multiply sequence by non-int of type 'float'",
     "output_type": "error",
     "traceback": [
      "\u001b[1;31m---------------------------------------------------------------------------\u001b[0m",
      "\u001b[1;31mTypeError\u001b[0m                                 Traceback (most recent call last)",
      "Cell \u001b[1;32mIn[119], line 1\u001b[0m\n\u001b[1;32m----> 1\u001b[0m \u001b[38;5;124m\"\u001b[39m\u001b[38;5;124mHello\u001b[39m\u001b[38;5;124m\"\u001b[39m \u001b[38;5;241m*\u001b[39m \u001b[38;5;241m3.3\u001b[39m\n",
      "\u001b[1;31mTypeError\u001b[0m: can't multiply sequence by non-int of type 'float'"
     ]
    }
   ],
   "source": [
    "\"Hello\" * 3.3"
   ]
  },
  {
   "cell_type": "code",
   "execution_count": 127,
   "id": "ffd398b0-0d15-484e-87b6-1ace33268e85",
   "metadata": {},
   "outputs": [
    {
     "data": {
      "text/plain": [
       "5.0"
      ]
     },
     "execution_count": 127,
     "metadata": {},
     "output_type": "execute_result"
    }
   ],
   "source": [
    "10/2"
   ]
  },
  {
   "cell_type": "code",
   "execution_count": 135,
   "id": "f48ccd6d-72eb-4628-9dc8-7ef1c1e170be",
   "metadata": {},
   "outputs": [
    {
     "data": {
      "text/plain": [
       "5"
      ]
     },
     "execution_count": 135,
     "metadata": {},
     "output_type": "execute_result"
    }
   ],
   "source": [
    "10//2 # returns the floor division - it rounds out to the nearest whole number"
   ]
  },
  {
   "cell_type": "code",
   "execution_count": 133,
   "id": "7a77b6f5-018c-4145-bb0f-4d33e647645d",
   "metadata": {},
   "outputs": [
    {
     "data": {
      "text/plain": [
       "0.5"
      ]
     },
     "execution_count": 133,
     "metadata": {},
     "output_type": "execute_result"
    }
   ],
   "source": [
    "10.5%2"
   ]
  },
  {
   "cell_type": "code",
   "execution_count": 151,
   "id": "ec5ec786-d6a8-4d03-9024-b5b9031f2f45",
   "metadata": {},
   "outputs": [
    {
     "data": {
      "text/plain": [
       "5.25"
      ]
     },
     "execution_count": 151,
     "metadata": {},
     "output_type": "execute_result"
    }
   ],
   "source": [
    "10.5/2"
   ]
  },
  {
   "cell_type": "code",
   "execution_count": 145,
   "id": "b4f2b7a6-8792-46f7-b768-0457063f6591",
   "metadata": {},
   "outputs": [
    {
     "name": "stdout",
     "output_type": "stream",
     "text": [
      "7\n",
      "1\n"
     ]
    }
   ],
   "source": [
    "x = 15\n",
    "y = 2\n",
    "\n",
    "print(x//y)\n",
    "print(x%y)"
   ]
  },
  {
   "cell_type": "code",
   "execution_count": 143,
   "id": "22b17dfc-3783-4cfe-a1a1-537a5b1cd259",
   "metadata": {},
   "outputs": [
    {
     "data": {
      "text/plain": [
       "7.5"
      ]
     },
     "execution_count": 143,
     "metadata": {},
     "output_type": "execute_result"
    }
   ],
   "source": [
    "15/2"
   ]
  },
  {
   "cell_type": "code",
   "execution_count": 139,
   "id": "f11a6161-5661-4d3b-a10a-cdb17c73a6d4",
   "metadata": {},
   "outputs": [
    {
     "data": {
      "text/plain": [
       "0"
      ]
     },
     "execution_count": 139,
     "metadata": {},
     "output_type": "execute_result"
    }
   ],
   "source": [
    "6%2"
   ]
  },
  {
   "cell_type": "code",
   "execution_count": 149,
   "id": "550d4de8-5f28-4f51-9a84-f8464f539c16",
   "metadata": {},
   "outputs": [
    {
     "data": {
      "text/plain": [
       "8"
      ]
     },
     "execution_count": 149,
     "metadata": {},
     "output_type": "execute_result"
    }
   ],
   "source": [
    "2 ** 3"
   ]
  },
  {
   "cell_type": "markdown",
   "id": "904d03ac-4898-4aab-94d0-9aad79085c3e",
   "metadata": {},
   "source": [
    "### Assignment Operators"
   ]
  },
  {
   "cell_type": "markdown",
   "id": "6fb64855-9d00-4334-bb57-0c6006b24f7e",
   "metadata": {},
   "source": [
    "Assignment operators in Python are used to assign values to variables. They combine the assignment (=) operator with other operators (e.g., +=, -=, *=) to perform arithmetic or logical operations while assigning the result back to the variable."
   ]
  },
  {
   "cell_type": "markdown",
   "id": "a3686637-d2ee-4b06-81a8-5b5686e2ce4d",
   "metadata": {},
   "source": [
    "x += 3  is equivalent to x = x + 3"
   ]
  },
  {
   "cell_type": "markdown",
   "id": "4ab1865a-2f77-4f8a-b095-4663a46c543f",
   "metadata": {},
   "source": [
    "This can be done with all the arithmetic operations above"
   ]
  },
  {
   "cell_type": "markdown",
   "id": "92309e43-e4ff-4dd1-bc8c-2f8e38dd676f",
   "metadata": {},
   "source": [
    "What is a variable?\n",
    "(explain it like you were explaining it to a 5 year old)\n",
    "\n",
    "a variable can take multiple values, and its values can change.\n",
    "\n",
    "it's like a drawer that you assign for specific things, to keep your wares organized."
   ]
  },
  {
   "cell_type": "code",
   "execution_count": null,
   "id": "ee192f72-37ad-4136-97cc-a84c9ef3ccb2",
   "metadata": {},
   "outputs": [],
   "source": []
  },
  {
   "cell_type": "markdown",
   "id": "949f7813-a73e-45ee-996a-165eac50c507",
   "metadata": {},
   "source": [
    "### Comparison Operators"
   ]
  },
  {
   "cell_type": "markdown",
   "id": "4930ea0e-10f2-4df0-973d-60255aa027bf",
   "metadata": {},
   "source": [
    "Comparison operators in Python are used to compare values and return a **boolean** result (True or False). They include operators such as:\n",
    "- **==** (equal to),\n",
    "- **!=** (not equal to),\n",
    "- **>** (greater than),\n",
    "- **<** (less than),\n",
    "- **>=** (greater than or equal to),\n",
    "- and **<=** (less than or equal to)."
   ]
  },
  {
   "cell_type": "markdown",
   "id": "536df6ef-23db-473f-998a-48f5573d42ac",
   "metadata": {},
   "source": [
    "Usually used in _loops_ or inside functions."
   ]
  },
  {
   "cell_type": "code",
   "execution_count": 161,
   "id": "19204d39-86b7-4fce-9ee1-c4be64a49e63",
   "metadata": {
    "scrolled": true
   },
   "outputs": [
    {
     "data": {
      "text/plain": [
       "False"
      ]
     },
     "execution_count": 161,
     "metadata": {},
     "output_type": "execute_result"
    }
   ],
   "source": [
    "True == 0"
   ]
  },
  {
   "cell_type": "code",
   "execution_count": 163,
   "id": "7ed0459d-4807-4cf9-abe7-808158cb9c01",
   "metadata": {},
   "outputs": [
    {
     "data": {
      "text/plain": [
       "True"
      ]
     },
     "execution_count": 163,
     "metadata": {},
     "output_type": "execute_result"
    }
   ],
   "source": [
    "True != 0"
   ]
  },
  {
   "cell_type": "code",
   "execution_count": 171,
   "id": "f9654b50-4f74-4a95-9dea-6019f549eff9",
   "metadata": {},
   "outputs": [
    {
     "data": {
      "text/plain": [
       "False"
      ]
     },
     "execution_count": 171,
     "metadata": {},
     "output_type": "execute_result"
    }
   ],
   "source": [
    "True <= 0"
   ]
  },
  {
   "cell_type": "code",
   "execution_count": 175,
   "id": "ec8b338f-188f-4f4b-b2a7-659f9a10dfd9",
   "metadata": {},
   "outputs": [
    {
     "data": {
      "text/plain": [
       "False"
      ]
     },
     "execution_count": 175,
     "metadata": {},
     "output_type": "execute_result"
    }
   ],
   "source": [
    "True > 1"
   ]
  },
  {
   "cell_type": "code",
   "execution_count": 177,
   "id": "9f464498-dbcf-4c4e-ad09-d5f894c35f29",
   "metadata": {},
   "outputs": [
    {
     "data": {
      "text/plain": [
       "True"
      ]
     },
     "execution_count": 177,
     "metadata": {},
     "output_type": "execute_result"
    }
   ],
   "source": [
    "True >= 1"
   ]
  },
  {
   "cell_type": "markdown",
   "id": "561b79f4-6ebe-46ac-953c-2e67084eb528",
   "metadata": {},
   "source": [
    "### Logical Operators"
   ]
  },
  {
   "cell_type": "markdown",
   "id": "ddeabd60-2024-4ac4-ab74-2636d5397a8b",
   "metadata": {},
   "source": [
    "Python's logical operators allow you to manipulate logical values (True or False) and make decisions based on conditions. The three logical operators in Python are:\n",
    "\n",
    "- `and`: Returns True if both conditions are True, otherwise False.\n",
    "- `or`: Returns True if at least one condition is True, otherwise False.\n",
    "- `not`: Negates the logical value of a condition."
   ]
  },
  {
   "cell_type": "code",
   "execution_count": 210,
   "id": "7b94418a-a87b-40be-a239-8039c740a306",
   "metadata": {},
   "outputs": [],
   "source": [
    "x = 10\n",
    "y = 3"
   ]
  },
  {
   "cell_type": "code",
   "execution_count": 212,
   "id": "91582339-de75-43c4-9111-8b248ed7e1c3",
   "metadata": {},
   "outputs": [
    {
     "data": {
      "text/plain": [
       "True"
      ]
     },
     "execution_count": 212,
     "metadata": {},
     "output_type": "execute_result"
    }
   ],
   "source": [
    "x > 5 or x < 4 # This can be usually, sometimes.\n",
    "# Play around. Add more comparisons and more logical operators"
   ]
  },
  {
   "cell_type": "code",
   "execution_count": 214,
   "id": "16754bcb",
   "metadata": {},
   "outputs": [
    {
     "data": {
      "text/plain": [
       "False"
      ]
     },
     "execution_count": 214,
     "metadata": {},
     "output_type": "execute_result"
    }
   ],
   "source": [
    "x > 5 and x < 4\n",
    "# This can be usually when doing loops - we'll want to add conditions.\n",
    "# Play around. Add more comparisons and more logical operators"
   ]
  },
  {
   "cell_type": "code",
   "execution_count": 216,
   "id": "53da067f",
   "metadata": {},
   "outputs": [
    {
     "data": {
      "text/plain": [
       "True"
      ]
     },
     "execution_count": 216,
     "metadata": {},
     "output_type": "execute_result"
    }
   ],
   "source": [
    "not(x > 5 and x < 4)\n",
    "# This can be usually when doing loops - we'll want to add conditions.\n",
    "# Play around. Add more comparisons and more logical operators"
   ]
  },
  {
   "cell_type": "markdown",
   "id": "d696bfa4-d486-4b91-a715-1c5215b499e5",
   "metadata": {
    "tags": []
   },
   "source": [
    "### Data Type Compatibility and Casting"
   ]
  },
  {
   "cell_type": "markdown",
   "id": "3c8aa343-4b83-4b25-a4db-6d982a136003",
   "metadata": {},
   "source": [
    "Different data types in Python have specific rules for how they can be used together. Performing operations with incompatible data types can result in errors if the computer doesn't know how to perform it. "
   ]
  },
  {
   "cell_type": "markdown",
   "id": "edf71839-14e4-4f6d-a856-0968ea7b0dab",
   "metadata": {},
   "source": [
    "Data type casting in Python allows you to convert values from one type to another, as long as the computer knows how to do it (as long as it makes sense to do so). You can use the following functions for type conversion:\n",
    "\n",
    "- `int()`: Converts a value to an integer.\n",
    "- `float()`: Converts a value to a float.\n",
    "- `str()`: Converts a value to a string.\n",
    "- `bool()`: Converts a value to a boolean."
   ]
  },
  {
   "cell_type": "code",
   "execution_count": 218,
   "id": "f9c3b676-8f9f-4ed0-9b8b-a3e73345af77",
   "metadata": {},
   "outputs": [
    {
     "data": {
      "text/plain": [
       "str"
      ]
     },
     "execution_count": 218,
     "metadata": {},
     "output_type": "execute_result"
    }
   ],
   "source": [
    "test = \"2\"\n",
    "type(test)"
   ]
  },
  {
   "cell_type": "code",
   "execution_count": 227,
   "id": "6da06295-fba0-4d9c-acef-44b64639e196",
   "metadata": {},
   "outputs": [
    {
     "data": {
      "text/plain": [
       "2"
      ]
     },
     "execution_count": 227,
     "metadata": {},
     "output_type": "execute_result"
    }
   ],
   "source": [
    "int(test)\n",
    "# This is casting.\n",
    "# Casting string to number only works when you have only digits on your string."
   ]
  },
  {
   "cell_type": "code",
   "execution_count": 225,
   "id": "0ead2f88",
   "metadata": {},
   "outputs": [
    {
     "data": {
      "text/plain": [
       "str"
      ]
     },
     "execution_count": 225,
     "metadata": {},
     "output_type": "execute_result"
    }
   ],
   "source": [
    "type(test)\n",
    "# It will still be a string. To really change the data type, we have to assign it again"
   ]
  },
  {
   "cell_type": "markdown",
   "id": "a8cbf612-31f9-4eb6-88ae-72e89fd9fa6b",
   "metadata": {
    "tags": []
   },
   "source": [
    "<h2 style=\"color: #008080;\">String methods and functions</h2>"
   ]
  },
  {
   "cell_type": "code",
   "execution_count": 230,
   "id": "80974f8d-9d28-413c-89a9-09a327258bf0",
   "metadata": {},
   "outputs": [],
   "source": [
    "test = \"Hello World\""
   ]
  },
  {
   "cell_type": "code",
   "execution_count": 232,
   "id": "1fcec5c7",
   "metadata": {},
   "outputs": [
    {
     "data": {
      "text/plain": [
       "'hello world'"
      ]
     },
     "execution_count": 232,
     "metadata": {},
     "output_type": "execute_result"
    }
   ],
   "source": [
    "test.lower()"
   ]
  },
  {
   "cell_type": "code",
   "execution_count": 234,
   "id": "e4808826",
   "metadata": {},
   "outputs": [
    {
     "data": {
      "text/plain": [
       "'HELLO WORLD'"
      ]
     },
     "execution_count": 234,
     "metadata": {},
     "output_type": "execute_result"
    }
   ],
   "source": [
    "test.upper()"
   ]
  },
  {
   "cell_type": "code",
   "execution_count": 236,
   "id": "87c64831",
   "metadata": {},
   "outputs": [
    {
     "data": {
      "text/plain": [
       "'Hello World'"
      ]
     },
     "execution_count": 236,
     "metadata": {},
     "output_type": "execute_result"
    }
   ],
   "source": [
    "test.strip()"
   ]
  },
  {
   "cell_type": "code",
   "execution_count": 244,
   "id": "21793ab5",
   "metadata": {},
   "outputs": [
    {
     "data": {
      "text/plain": [
       "'Hello world'"
      ]
     },
     "execution_count": 244,
     "metadata": {},
     "output_type": "execute_result"
    }
   ],
   "source": [
    "test.capitalize() # Only the first letter will be upper"
   ]
  },
  {
   "cell_type": "code",
   "execution_count": 246,
   "id": "612978f5-7a17-4cec-a9fa-fa177c96396a",
   "metadata": {},
   "outputs": [
    {
     "data": {
      "text/plain": [
       "11"
      ]
     },
     "execution_count": 246,
     "metadata": {},
     "output_type": "execute_result"
    }
   ],
   "source": [
    "len(test)"
   ]
  },
  {
   "cell_type": "code",
   "execution_count": 248,
   "id": "7ba5ba7c-5575-42dc-9ba6-00e1acd07c8b",
   "metadata": {},
   "outputs": [],
   "source": [
    "test = \"HELLO, World\""
   ]
  },
  {
   "cell_type": "code",
   "execution_count": 250,
   "id": "621e10a3-e352-4bba-82d2-aec30da3a823",
   "metadata": {},
   "outputs": [
    {
     "data": {
      "text/plain": [
       "['HELLO,', 'World']"
      ]
     },
     "execution_count": 250,
     "metadata": {},
     "output_type": "execute_result"
    }
   ],
   "source": [
    "test.split()"
   ]
  },
  {
   "cell_type": "code",
   "execution_count": 252,
   "id": "6da15f87-4362-4570-b3fc-c4b94e7620be",
   "metadata": {},
   "outputs": [
    {
     "data": {
      "text/plain": [
       "['HELLO', ' World']"
      ]
     },
     "execution_count": 252,
     "metadata": {},
     "output_type": "execute_result"
    }
   ],
   "source": [
    "test.split(\",\")"
   ]
  },
  {
   "cell_type": "code",
   "execution_count": 254,
   "id": "2a372c55",
   "metadata": {},
   "outputs": [],
   "source": [
    "test = \"HELLO, World, and Welcome!\""
   ]
  },
  {
   "cell_type": "code",
   "execution_count": 258,
   "id": "3c3bee7c-8d2e-4bfd-aabd-fb8da7d7c0ba",
   "metadata": {},
   "outputs": [
    {
     "data": {
      "text/plain": [
       "['HELLO,', 'World,', 'and', 'Welcome!']"
      ]
     },
     "execution_count": 258,
     "metadata": {},
     "output_type": "execute_result"
    }
   ],
   "source": [
    "test.split()"
   ]
  },
  {
   "cell_type": "code",
   "execution_count": 256,
   "id": "54ec4074",
   "metadata": {},
   "outputs": [
    {
     "data": {
      "text/plain": [
       "['HELLO', ' World', ' and Welcome!']"
      ]
     },
     "execution_count": 256,
     "metadata": {},
     "output_type": "execute_result"
    }
   ],
   "source": [
    "test.split(\",\")"
   ]
  },
  {
   "cell_type": "markdown",
   "id": "51161c2e-3c78-433e-985a-d49854b239d3",
   "metadata": {},
   "source": [
    "**Check out the examples on the notebook the teacher is editing.**"
   ]
  },
  {
   "cell_type": "markdown",
   "id": "c8e5fa40-7c11-4e77-9fd1-9dc90aa9dc99",
   "metadata": {},
   "source": [
    "### Formatting Strings"
   ]
  },
  {
   "cell_type": "markdown",
   "id": "e4962711-4fa0-45b3-b486-43ca59736b9a",
   "metadata": {},
   "source": [
    "Let's look at different ways to format strings in Python. String formatting allows you to incorporate variables or values into a string in a structured and readable manner.\n",
    "\n",
    "We'll look at three ways:\n",
    "\n",
    "1. The first example uses f-strings (**formatted string literals**), denoted by the 'f' at the beginning of the string. Inside the curly braces, you can include variables or expressions that will be evaluated and replaced with their respective values when the string is created."
   ]
  },
  {
   "cell_type": "code",
   "execution_count": 279,
   "id": "04dff21d-db34-44e7-b1d6-8fb51b6c5e59",
   "metadata": {},
   "outputs": [
    {
     "data": {
      "text/plain": [
       "'Hello, my name is {name}, and my age is {age}.'"
      ]
     },
     "execution_count": 279,
     "metadata": {},
     "output_type": "execute_result"
    }
   ],
   "source": [
    "name = \"Ana\"\n",
    "age = 35\n",
    "random_sentence = \"Hello, my name is {name}, and my age is {age}.\"\n",
    "random_sentence"
   ]
  },
  {
   "cell_type": "code",
   "execution_count": 268,
   "id": "a8ee01db",
   "metadata": {},
   "outputs": [
    {
     "data": {
      "text/plain": [
       "'Hello, my name is Ana, and my age is 35.'"
      ]
     },
     "execution_count": 268,
     "metadata": {},
     "output_type": "execute_result"
    }
   ],
   "source": [
    "random_sentence = f\"Hello, my name is {name}, and my age is {age}.\"\n",
    "random_sentence"
   ]
  },
  {
   "cell_type": "markdown",
   "id": "22e6bc39-2e31-4c25-8e59-555351158f56",
   "metadata": {},
   "source": [
    "2. The second example uses the `format` method to insert the value of the variable `name` into the string. Within the string, you will find a placeholder `{}` where the value will be placed. The `format` method is called on the string and takes the value to be inserted as an argument."
   ]
  },
  {
   "cell_type": "code",
   "execution_count": 293,
   "id": "15594b42-c957-4efc-8c49-442d6ecd8f2d",
   "metadata": {},
   "outputs": [
    {
     "data": {
      "text/plain": [
       "'Hello, my name is Ana, and my age is 35'"
      ]
     },
     "execution_count": 293,
     "metadata": {},
     "output_type": "execute_result"
    }
   ],
   "source": [
    "\"Hello, my name is {}, and my age is {}\".format(name, age)\n",
    "# Using the .format methot with two arguments - the order matters."
   ]
  },
  {
   "cell_type": "markdown",
   "id": "af664ac1-bc02-4910-9acf-6073796cd6c3",
   "metadata": {},
   "source": [
    "3. The third example demonstrates simple concatenation. The string \"Hello my name is\" is concatenated with a space and the variable `name` using the `+` operator."
   ]
  },
  {
   "cell_type": "code",
   "execution_count": 283,
   "id": "b2fb658f-ed42-43dd-80ec-f4713e00144c",
   "metadata": {},
   "outputs": [
    {
     "data": {
      "text/plain": [
       "'Hello, my name is Anaand my age is 35'"
      ]
     },
     "execution_count": 283,
     "metadata": {},
     "output_type": "execute_result"
    }
   ],
   "source": [
    "\"Hello, my name is \" + name + \"and my age is \" + str(age)\n",
    "#You have to cast the variable age to a string, to be able to concatenate strings."
   ]
  },
  {
   "cell_type": "markdown",
   "id": "3ff8ff64-1add-44a2-8c45-edd9e04d80dc",
   "metadata": {},
   "source": [
    "### Input and output functions\n",
    "\n",
    "Input and output are concepts in programming that allow us to interact with the user and display information on the screen. In Python, we commonly use the console as the standard input and output device.\n",
    "\n",
    "**Input**:\n",
    "To get input from the user, we use the `input()` function. It displays a message on the console and waits for the user to enter a value. The value entered by the user is returned as a **string**.\n",
    "\n",
    "Here's an example:\n",
    "```python\n",
    "name = input(\"Enter your name: \")\n",
    "print(\"Hello, \" + name + \"!\")\n",
    "```\n",
    "In this example, the `input()` function displays the message \"Enter your name: \" on the console. The user can then enter their name, and the input is assigned to the variable `name`. Finally, the program prints a greeting message using the entered name.\n",
    "\n",
    "**Output**:\n",
    "To display information or results on the console, we use the `print()` function. It takes one or more values as arguments (**strings**) and displays them as output.\n",
    "\n",
    "Here's an example:\n",
    "```python\n",
    "age = 25\n",
    "print(\"Your age is:\", age)\n",
    "```\n",
    "In this example, the `print()` function displays the string \"Your age is:\" followed by the value of the `age` variable. The output will be \"Your age is: 25\".\n",
    "\n",
    "You can also format the output using placeholders or string concatenation, as shown in the previous examples."
   ]
  },
  {
   "cell_type": "code",
   "execution_count": 297,
   "id": "6b41ae88-ce59-4fce-8a73-e9a60858b2f8",
   "metadata": {},
   "outputs": [
    {
     "name": "stdin",
     "output_type": "stream",
     "text": [
      " Helooo\n"
     ]
    }
   ],
   "source": [
    "x = input()"
   ]
  },
  {
   "cell_type": "code",
   "execution_count": 309,
   "id": "da481339",
   "metadata": {},
   "outputs": [
    {
     "name": "stdin",
     "output_type": "stream",
     "text": [
      "Enter a single digit: 112\n"
     ]
    }
   ],
   "source": [
    "x = int(input(\"Enter a single digit:\"))\n",
    "#Consider treating the user as stupid... they will break your code.\n",
    "#Work on some loops here to validate the correct input.\n",
    "#or cast the input string into an integer. (inputs are always strings)"
   ]
  },
  {
   "cell_type": "code",
   "execution_count": 299,
   "id": "cbed30fd-eade-480f-a88e-0f5fcd47cd74",
   "metadata": {},
   "outputs": [
    {
     "data": {
      "text/plain": [
       "'Helooo'"
      ]
     },
     "execution_count": 299,
     "metadata": {},
     "output_type": "execute_result"
    }
   ],
   "source": [
    "x"
   ]
  },
  {
   "cell_type": "markdown",
   "id": "56148c6d-d9c7-4b30-9223-8e5532c48423",
   "metadata": {},
   "source": [
    "**When using the `print()` function in Python, it's important to note that it does not have a return value. If you assign the result of a `print()` statement to a variable or return it in a function, the value will be `None`.**"
   ]
  },
  {
   "cell_type": "code",
   "execution_count": null,
   "id": "2c419d1a-5670-4b5f-a589-b3aebd6457bf",
   "metadata": {},
   "outputs": [],
   "source": []
  },
  {
   "cell_type": "markdown",
   "id": "650b4a94-6a3e-4a82-9359-c53d92766a7e",
   "metadata": {},
   "source": [
    "### 💡 Check for understanding\n",
    "\n",
    "Create a program that asks the user to enter their age. The program should then calculate and display the user's age after 10 years.\n",
    "\n",
    "Instructions:\n",
    "1. Prompt the user to enter their age using the `input()` function and store it in a variable.\n",
    "2. Convert the user's input from a string to an integer using the `int()` function and store it in another variable.\n",
    "3. Add 10 to the user's age using the `+` operator and store the result in a third variable.\n",
    "4. Display the user's age after 10 years by printing the result.\n",
    "\n",
    "Example Output:\n",
    "Enter your age: 25\n",
    "Your age after 10 years: 35\n",
    "\n",
    "Note: Ensure that you handle any potential errors related to casting."
   ]
  },
  {
   "cell_type": "code",
   "execution_count": null,
   "id": "7f52e656-21a5-412a-b56a-0f8805366f49",
   "metadata": {},
   "outputs": [],
   "source": [
    "# Your code goes here\n"
   ]
  },
  {
   "cell_type": "markdown",
   "id": "5299fd13-4e98-45c7-84f2-48a5538bead3",
   "metadata": {
    "tags": []
   },
   "source": [
    "## Data structures    "
   ]
  },
  {
   "cell_type": "markdown",
   "id": "58ae4a1d-6039-4f07-b159-9df5fcd2f78e",
   "metadata": {},
   "source": [
    "Data structures are fundamental components in programming that provide a way to manage and **work with collections of values** or entities. "
   ]
  },
  {
   "cell_type": "markdown",
   "id": "7f2bedf8-c0fc-4456-b75f-b0347a4e7256",
   "metadata": {},
   "source": [
    "Data structures in Python can be categorized as either mutable or immutable.\n",
    "\n",
    "- **Mutable** data structures, like lists, dictionaries, and sets, can be modified after they are created.\n",
    "- **Immutable** data structures, such as tuples, cannot be changed once defined."
   ]
  },
  {
   "cell_type": "markdown",
   "id": "2e1caa66-2b83-4140-b38c-5ce1e8905d8c",
   "metadata": {},
   "source": [
    "Python Data Structures:\n",
    "- **Lists**: Ordered, mutable collections that store elements of different types and allow indexing, appending, removing, and modifying. [ ]\n",
    "- **Dictionaries**: Ordered (from Python 3.6), mutable key-value pairs for efficient lookup and organization of data. { }\n",
    "- **Sets**: Unordered, mutable collections of unique elements with set operations like union and intersection. { }\n",
    "- **Tuples**: Ordered, immutable collections commonly used for fixed values. ( )"
   ]
  },
  {
   "cell_type": "markdown",
   "id": "4d1afcd5-c5df-4997-986c-7dcf26773a75",
   "metadata": {},
   "source": [
    "## Lists"
   ]
  },
  {
   "cell_type": "markdown",
   "id": "ee2daf21-6f62-4894-b26e-1daf7cca89cb",
   "metadata": {},
   "source": [
    "To create a list, you can simply assign a sequence of elements to a variable using the square brackets notation."
   ]
  },
  {
   "cell_type": "code",
   "execution_count": 312,
   "id": "c5c94ecc-86e1-4865-b54a-b877a877fb89",
   "metadata": {},
   "outputs": [],
   "source": [
    "x = [\"melon\", \"apple\", \"pear\"]"
   ]
  },
  {
   "cell_type": "code",
   "execution_count": 314,
   "id": "5912d4db-fe76-4328-9862-e5aaf09b7f6e",
   "metadata": {},
   "outputs": [
    {
     "data": {
      "text/plain": [
       "list"
      ]
     },
     "execution_count": 314,
     "metadata": {},
     "output_type": "execute_result"
    }
   ],
   "source": [
    "type(x)"
   ]
  },
  {
   "cell_type": "markdown",
   "id": "247eb050-d743-4747-b10b-34ffaddc5333",
   "metadata": {},
   "source": [
    "### Indexing and slicing"
   ]
  },
  {
   "cell_type": "markdown",
   "id": "d52e7632-b450-413f-934d-9a17af6e0bbf",
   "metadata": {},
   "source": [
    "In Python, indexing allows you to access elements within a list using their unique index values. Indexing syntax is as follows:\n",
    "\n",
    "```python\n",
    "list_name[index]\n",
    "```\n",
    "\n",
    "The index starts from 0 for the first element and can also be negative to refer to elements from the end of the list (e.g., -1 for the last element)."
   ]
  },
  {
   "cell_type": "markdown",
   "id": "72cb0ec6-7a8d-436c-af9e-860ec95df4c7",
   "metadata": {},
   "source": [
    "#### Slicing"
   ]
  },
  {
   "cell_type": "markdown",
   "id": "d31d9634-14ca-4ced-8e0e-ad16ce634a80",
   "metadata": {},
   "source": [
    "In Python, slicing allows you to extract a portion of a sequence using the syntax `sequence[start:end:step]`. The `start` index is inclusive, the `end` index is exclusive, and the `step` value (optional) controls the increment between elements in the slice. \n",
    "\n",
    "Note that if you omit a value, such as `x[:stop]`, it is automatically replaced with a default value: the first element for `start`, the last element for `end`, and `1` for `step`."
   ]
  },
  {
   "cell_type": "markdown",
   "id": "836a8d24-29ff-4cc6-89e6-562a1ce789e4",
   "metadata": {},
   "source": [
    "<img src=\"https://education-team-2020.s3-eu-west-1.amazonaws.com/data-analytics/prework/unit1/zero_based_indexing_python.png\" width=400 height=400>"
   ]
  },
  {
   "cell_type": "code",
   "execution_count": null,
   "id": "1717bf11-8d83-4e0d-8e2c-8a42ceef19e6",
   "metadata": {},
   "outputs": [],
   "source": []
  },
  {
   "cell_type": "markdown",
   "id": "4046120b-1143-4979-84f3-7e65e656bb9c",
   "metadata": {},
   "source": [
    "### Modifying List Elements\n",
    "\n",
    "Lists are mutable, meaning you can modify their elements after creation. You can assign new values to specific elements using their index."
   ]
  },
  {
   "cell_type": "code",
   "execution_count": null,
   "id": "e66e5570-91ea-44fd-a64b-daade584ded4",
   "metadata": {},
   "outputs": [],
   "source": []
  },
  {
   "cell_type": "markdown",
   "id": "d2750a99-22c5-4d89-9043-10062b5c7c01",
   "metadata": {},
   "source": [
    "### List Operators and functions\n",
    "\n",
    "Lists support various operations, such as concatenation (+) to combine two lists or repetition (*) to repeat a list."
   ]
  },
  {
   "cell_type": "code",
   "execution_count": null,
   "id": "15ca085c-ca58-4d2f-a793-a7ea1cf12bc4",
   "metadata": {},
   "outputs": [],
   "source": []
  },
  {
   "cell_type": "markdown",
   "id": "41b4719e-5d86-4eb7-ac6d-c103f210420f",
   "metadata": {},
   "source": [
    "<h2 style=\"color: #008080;\">Dictionaries</h2>"
   ]
  },
  {
   "cell_type": "markdown",
   "id": "31594a7d-b5d4-480c-94bc-8657361b9b12",
   "metadata": {},
   "source": [
    "In Python, dictionaries are created using curly braces {} and consist of key-value pairs separated by commas. Keys in a dictionary must be unique, and if a key already exists, assigning a new value to that key will overwrite the existing value."
   ]
  },
  {
   "cell_type": "code",
   "execution_count": 326,
   "id": "6a00f436-f86a-4702-8b4b-447155224d2e",
   "metadata": {},
   "outputs": [
    {
     "data": {
      "text/plain": [
       "{'ana': 936261269, 'márcia': 965554872}"
      ]
     },
     "execution_count": 326,
     "metadata": {},
     "output_type": "execute_result"
    }
   ],
   "source": [
    "{\"ana\": 936261269,\n",
    "\"márcia\": 965554872}\n",
    "#Can only have one key"
   ]
  },
  {
   "cell_type": "code",
   "execution_count": 334,
   "id": "ad92941a",
   "metadata": {},
   "outputs": [],
   "source": [
    "contactos = {\"ana\": [936261269, {\"bloodtype\": \"A+\"}],\n",
    "\"márcia\": 965554872}\n",
    "#Can only have one key"
   ]
  },
  {
   "cell_type": "code",
   "execution_count": 336,
   "id": "169ec99f-4c02-456d-a416-f895fe933dd8",
   "metadata": {},
   "outputs": [
    {
     "data": {
      "text/plain": [
       "dict_keys(['ana', 'márcia'])"
      ]
     },
     "execution_count": 336,
     "metadata": {},
     "output_type": "execute_result"
    }
   ],
   "source": [
    "contactos.keys()"
   ]
  },
  {
   "cell_type": "code",
   "execution_count": 338,
   "id": "1af8fad2-585d-4f10-9c1d-d807281c57db",
   "metadata": {},
   "outputs": [
    {
     "data": {
      "text/plain": [
       "[936261269, {'bloodtype': 'A+'}]"
      ]
     },
     "execution_count": 338,
     "metadata": {},
     "output_type": "execute_result"
    }
   ],
   "source": [
    "contactos[\"ana\"]"
   ]
  },
  {
   "cell_type": "code",
   "execution_count": 342,
   "id": "d02423d7",
   "metadata": {},
   "outputs": [
    {
     "data": {
      "text/plain": [
       "936261269"
      ]
     },
     "execution_count": 342,
     "metadata": {},
     "output_type": "execute_result"
    }
   ],
   "source": [
    "contactos[\"ana\"][0]"
   ]
  },
  {
   "cell_type": "code",
   "execution_count": 344,
   "id": "b58719e6",
   "metadata": {},
   "outputs": [
    {
     "data": {
      "text/plain": [
       "{'bloodtype': 'A+'}"
      ]
     },
     "execution_count": 344,
     "metadata": {},
     "output_type": "execute_result"
    }
   ],
   "source": [
    "contactos[\"ana\"][1]"
   ]
  },
  {
   "cell_type": "code",
   "execution_count": 346,
   "id": "b4138e9b",
   "metadata": {},
   "outputs": [
    {
     "data": {
      "text/plain": [
       "'A+'"
      ]
     },
     "execution_count": 346,
     "metadata": {},
     "output_type": "execute_result"
    }
   ],
   "source": [
    "contactos[\"ana\"][1][\"bloodtype\"]"
   ]
  },
  {
   "cell_type": "markdown",
   "id": "6dc7b2bd-e15f-4f9d-8702-906dd24f39c7",
   "metadata": {},
   "source": [
    "### Accessing values using the keys"
   ]
  },
  {
   "cell_type": "markdown",
   "id": "c266d2c8-0a13-4914-952e-094e8dafb858",
   "metadata": {},
   "source": [
    "To access values in a dictionary, use the corresponding key in square brackets [], noting that keys are case-sensitive."
   ]
  },
  {
   "cell_type": "code",
   "execution_count": null,
   "id": "9c3ec456-b1e8-444f-8bd3-c5a07c6d1dc6",
   "metadata": {},
   "outputs": [],
   "source": []
  },
  {
   "cell_type": "markdown",
   "id": "c6436cc8-c6c3-4f23-9799-a2e407fa762b",
   "metadata": {},
   "source": [
    "### Adding and Modifying Values\n",
    "\n",
    "To add a new key-value pair to a dictionary, use the syntax `<dictionary_name>[<key>] = value`."
   ]
  },
  {
   "cell_type": "code",
   "execution_count": null,
   "id": "f39f5c53-1c6f-4b67-9e64-ae87254dfc31",
   "metadata": {},
   "outputs": [],
   "source": []
  },
  {
   "cell_type": "markdown",
   "id": "232d29c6-d3b5-43fe-b78a-d4b21cbf0c81",
   "metadata": {},
   "source": [
    "Values inside a dictionary can be any data type, including lists or dictionaries itself."
   ]
  },
  {
   "cell_type": "code",
   "execution_count": null,
   "id": "92c61abe-21d3-4962-8bc8-98d7cf3891e1",
   "metadata": {},
   "outputs": [],
   "source": []
  },
  {
   "cell_type": "markdown",
   "id": "b70a4adb-82b6-4599-998a-a2937d430dfa",
   "metadata": {},
   "source": [
    "**Note**: Value associated with the key 'subjects' is a list. According to this, if we want to access 'science', we need first to access the `subjects` key in the dictionary. Then, as the `value` is a list, we need to access the corresponding element of the list.\n",
    "\n",
    "To access the value 'science' in the `student_data` dictionary, you can use the expression `student_data['subjects'][1]`."
   ]
  },
  {
   "cell_type": "code",
   "execution_count": null,
   "id": "a70ff6f4-2092-411b-9a4b-4bfb6cf10f9b",
   "metadata": {},
   "outputs": [],
   "source": []
  },
  {
   "cell_type": "markdown",
   "id": "c7b44f4f-0e56-4753-a8dd-23cf93160c23",
   "metadata": {},
   "source": [
    "### Removing Values\n",
    "\n",
    "You can remove a key-value pair from a dictionary using the `del` keyword or the `pop` method."
   ]
  },
  {
   "cell_type": "code",
   "execution_count": null,
   "id": "8983f42e-97b8-4039-986e-d8fd4d56891c",
   "metadata": {},
   "outputs": [],
   "source": []
  },
  {
   "cell_type": "markdown",
   "id": "341c8a07-81d4-43e5-a40e-26a9b0053a33",
   "metadata": {},
   "source": [
    "### Checking Key Existence\n",
    "\n",
    "To check if a key exists in a dictionary, you can use the `in` keyword:"
   ]
  },
  {
   "cell_type": "code",
   "execution_count": null,
   "id": "89350d86-3b59-473e-98d6-b770804992de",
   "metadata": {},
   "outputs": [],
   "source": []
  },
  {
   "cell_type": "markdown",
   "id": "37d42539-6e81-4aed-98f8-3f70ffc0e992",
   "metadata": {},
   "source": [
    "### Dictionary Methods"
   ]
  },
  {
   "cell_type": "markdown",
   "id": "18885f64-dce9-4375-a4b1-37df897855cc",
   "metadata": {},
   "source": [
    "Python dictionaries provide several useful methods:\n",
    "- **`.keys()`**: Returns a view object containing all the keys in the dictionary.\n",
    "- **`.values()`**: Returns a view object containing all the values in the dictionary.\n",
    "- **`.items()`**: Returns a view object containing all the key-value pairs in the dictionary as tuples.\n",
    "- **`get(key)`**: Returns the value associated with the specified key. If the key is not found, it returns a default value (None by default) instead of raising an error."
   ]
  },
  {
   "cell_type": "code",
   "execution_count": null,
   "id": "10dae779-78e2-4890-b21c-ca1ad12ee27b",
   "metadata": {},
   "outputs": [],
   "source": []
  },
  {
   "cell_type": "markdown",
   "id": "5108d421-4f84-454a-81fe-c0b26759aba5",
   "metadata": {},
   "source": [
    "In Python, the `print()` function displays the value passed to it and outputs it to the console. If the value is `None`, the function explicitly displays the word `None` as the output. In Jupyter Notebook, variables are automatically displayed as output when mentioned in a cell, but if the value is `None`, the notebook environment shows nothing instead of displaying `None`."
   ]
  },
  {
   "cell_type": "code",
   "execution_count": null,
   "id": "e77aefc2-6f8a-47b9-be98-b9cb0a5b3947",
   "metadata": {},
   "outputs": [],
   "source": []
  },
  {
   "cell_type": "markdown",
   "id": "09533aba-5aaa-4316-b8ae-29313652c73c",
   "metadata": {},
   "source": [
    "<h2 style=\"color: #008080;\">Sets</h2>\n",
    "\n",
    "Sets in Python are unordered collections of unique elements defined using curly braces {} or the set() function. They can contain elements of different data types, do not allow duplicates, and are mutable. Sets support operations like union, intersection, and difference."
   ]
  },
  {
   "cell_type": "code",
   "execution_count": 352,
   "id": "ffff0bc0-d5db-40ca-a34d-fed0ea4554c7",
   "metadata": {},
   "outputs": [
    {
     "data": {
      "text/plain": [
       "{2, 3, 4}"
      ]
     },
     "execution_count": 352,
     "metadata": {},
     "output_type": "execute_result"
    }
   ],
   "source": [
    "set_a = {2, 3, 5}\n",
    "set_a\n",
    "# It's like having a list that doesn't allow for repetitive elements.\n",
    "# Example:\n",
    "set_b = {2, 3, 4, 3}\n",
    "set_b"
   ]
  },
  {
   "cell_type": "markdown",
   "id": "5c6f9ada-6dd4-4131-8754-e5097570c354",
   "metadata": {},
   "source": [
    "<h2 style=\"color: #008080;\">Tuples</h2>\n",
    "\n",
    "Tuples are immutable and defined using parentheses (). They can store elements of different types, and once created, their elements cannot be modified. Tuples are often used to group related data together."
   ]
  },
  {
   "cell_type": "code",
   "execution_count": 356,
   "id": "95dfc44e-4c26-4dc6-8b36-c17e6a7c1120",
   "metadata": {},
   "outputs": [
    {
     "data": {
      "text/plain": [
       "(2, 3, 5, 3)"
      ]
     },
     "execution_count": 356,
     "metadata": {},
     "output_type": "execute_result"
    }
   ],
   "source": [
    "tupl_a = (2, 3, 5, 3)\n",
    "tupl_a"
   ]
  },
  {
   "cell_type": "code",
   "execution_count": 365,
   "id": "d5b29416",
   "metadata": {},
   "outputs": [
    {
     "data": {
      "text/plain": [
       "('something else as well', 'change')"
      ]
     },
     "execution_count": 365,
     "metadata": {},
     "output_type": "execute_result"
    }
   ],
   "source": [
    "tupl_a = (\"something else as well\", \"change\")\n",
    "tupl_a"
   ]
  },
  {
   "cell_type": "code",
   "execution_count": 369,
   "id": "e4a8e93f-dbdf-4dba-95da-9083c87b0754",
   "metadata": {},
   "outputs": [
    {
     "ename": "TypeError",
     "evalue": "'tuple' object does not support item assignment",
     "output_type": "error",
     "traceback": [
      "\u001b[1;31m---------------------------------------------------------------------------\u001b[0m",
      "\u001b[1;31mTypeError\u001b[0m                                 Traceback (most recent call last)",
      "Cell \u001b[1;32mIn[369], line 1\u001b[0m\n\u001b[1;32m----> 1\u001b[0m tupl_a[\u001b[38;5;241m0\u001b[39m] \u001b[38;5;241m=\u001b[39m \u001b[38;5;124m\"\u001b[39m\u001b[38;5;124msomething same\u001b[39m\u001b[38;5;124m\"\u001b[39m\n",
      "\u001b[1;31mTypeError\u001b[0m: 'tuple' object does not support item assignment"
     ]
    }
   ],
   "source": [
    "tupl_a[0] = \"something same\"\n",
    "# Tuples are immutable"
   ]
  },
  {
   "cell_type": "code",
   "execution_count": 358,
   "id": "9ccb3b42",
   "metadata": {},
   "outputs": [
    {
     "data": {
      "text/plain": [
       "{2, 3, 5}"
      ]
     },
     "execution_count": 358,
     "metadata": {},
     "output_type": "execute_result"
    }
   ],
   "source": [
    "# We can cast with data structures, not just data types.\n",
    "set(tupl_a)"
   ]
  },
  {
   "cell_type": "markdown",
   "id": "f1d43f6e-6746-4488-b6a3-aabe1a57bf46",
   "metadata": {},
   "source": [
    "<h2 style=\"color: #008080;\">Summary</h2>\n",
    "\n",
    "It is always crucial to know what kind of variable you have in your hands because this determines how to retrieve the data. \n",
    "\n",
    "- lists and tuples -> accessed by **index**\n",
    "- dictionaries -> accessed by **key** (misleadingly, the key can be a number but usually is a string)\n",
    "- sets ->  since sets are unordered, they do not support indexing or retrieval of elements by position\n",
    "\n",
    "\n",
    "To identify these types:\n",
    "- Lists are easily recognizable as they begin and end with square brackets `[ ]`.\n",
    "- Dictionaries are enclosed in curly brackets `{ }`.\n",
    "- Sets are also enclosed in curly brackets `{ }`, but they lack key-value pairs.\n",
    "- Tuples are indicated by parentheses `( )`."
   ]
  },
  {
   "cell_type": "markdown",
   "id": "1e02990b-5522-4ee2-aa1e-c9e3b7b2601c",
   "metadata": {},
   "source": [
    "![](https://github.com/data-bootcamp-v4/lessons/blob/main/img/data-structures.png?raw=true)"
   ]
  },
  {
   "cell_type": "markdown",
   "id": "9133df74-d81b-42a7-844b-2cc83656b407",
   "metadata": {},
   "source": [
    "Forget about the \"User-Defined\" column."
   ]
  },
  {
   "cell_type": "markdown",
   "id": "08143668-d89c-40a4-8e3d-4058f0a6b66d",
   "metadata": {},
   "source": [
    "<h2 style=\"color: #008080;\">💡 Check for understanding</h2>"
   ]
  },
  {
   "cell_type": "markdown",
   "id": "81d83946-739d-47b6-949d-3d80322f8c47",
   "metadata": {},
   "source": [
    "Write a program that allows the user to enter the grades of five students. The program should store these grades in a list and then display the average grade."
   ]
  },
  {
   "cell_type": "code",
   "execution_count": null,
   "id": "f29748e1-523c-4ba3-a74c-c17d4314717e",
   "metadata": {},
   "outputs": [],
   "source": [
    "# Write your code here"
   ]
  },
  {
   "cell_type": "markdown",
   "id": "05fb5689-6131-4ebb-97af-6408f8813217",
   "metadata": {},
   "source": [
    "**Please refer to the following hint only if you have attempted the Check for Understanding and are still confused. Do not read it before giving it a try.**:\n",
    "\n",
    "Here's a step-by-step guide:\n",
    "\n",
    "1. Create an empty list to store the grades.\n",
    "2. Use the `input()` function to get the grade from the user for each student. Append each grade to the list.\n",
    "3. Calculate the average grade by summing up all the grades in the list and dividing by the number of grades.\n",
    "4. Display the average grade to the user."
   ]
  },
  {
   "cell_type": "markdown",
   "id": "6aabbf00-3eba-412b-860a-e7f9727ff71e",
   "metadata": {},
   "source": [
    "<h1 style=\"color: #00BFFF;\">Extra: nested dictionaries </h1>"
   ]
  },
  {
   "cell_type": "markdown",
   "id": "5f25699d-f74f-4136-90e6-2bf44d44d967",
   "metadata": {},
   "source": [
    "In Python, a nested dictionary is a dictionary where the values are themselves dictionaries. This can be useful when you need to organize data into multiple levels or categories. Here are some key points about nested dictionaries:\n",
    "\n",
    "- A nested dictionary can have multiple levels of nesting, with each level representing a specific category or subcategory.\n",
    "- You can access the values in a nested dictionary by specifying the keys at each level.\n",
    "- You can add, modify, or remove elements from a nested dictionary, just like with regular dictionaries.\n",
    "- Each level of a nested dictionary can have different keys and values, providing flexibility in structuring your data.\n"
   ]
  },
  {
   "cell_type": "code",
   "execution_count": null,
   "id": "89c96830-96e2-4178-b3a1-8afed9b641e4",
   "metadata": {},
   "outputs": [],
   "source": [
    "# Creating a nested dictionary\n",
    "student_data = {\n",
    "    'John': {\n",
    "        'age': 20,\n",
    "        'major': 'Computer Science',\n",
    "        'grades': [85, 90, 78]\n",
    "    },\n",
    "    'Jane': {\n",
    "        'age': 22,\n",
    "        'major': 'Biology',\n",
    "        'grades': [92, 88, 95]\n",
    "    }\n",
    "}"
   ]
  },
  {
   "cell_type": "code",
   "execution_count": null,
   "id": "a25cd58c-19dc-4e35-b133-3b4b1ae61321",
   "metadata": {},
   "outputs": [],
   "source": [
    "# Accessing values in a nested dictionary\n",
    "john_age = student_data['John']['age']\n",
    "jane_major = student_data['Jane']['major']\n",
    "john_grades = student_data['John']['grades']\n",
    "\n",
    "print(john_age)  # Output: 20\n",
    "print(jane_major)  # Output: Biology\n",
    "print(john_grades)  # Output: [85, 90, 78]"
   ]
  },
  {
   "cell_type": "code",
   "execution_count": null,
   "id": "a7bf9651-8ca7-4809-9f2b-ac77ec1b868a",
   "metadata": {},
   "outputs": [],
   "source": [
    "# Modifying values in a nested dictionary\n",
    "student_data['John']['major'] = 'Electrical Engineering'\n",
    "student_data['Jane']['grades'].append(97)"
   ]
  },
  {
   "cell_type": "code",
   "execution_count": null,
   "id": "6c496256-0870-4455-96a9-0aefa9bd6c31",
   "metadata": {},
   "outputs": [],
   "source": [
    "# Adding a new student to the nested dictionary\n",
    "student_data['Sarah'] = {\n",
    "    'age': 19,\n",
    "    'major': 'Physics',\n",
    "    'grades': [90, 91, 88]\n",
    "}"
   ]
  },
  {
   "cell_type": "code",
   "execution_count": null,
   "id": "870021a8-0342-4068-8569-102655de8152",
   "metadata": {},
   "outputs": [],
   "source": [
    "# Removing a student from the nested dictionary\n",
    "del student_data['John']\n",
    "\n",
    "print(student_data)"
   ]
  },
  {
   "cell_type": "code",
   "execution_count": null,
   "id": "bd09ff80-cfac-48ab-a78d-e653bf9d85f0",
   "metadata": {},
   "outputs": [],
   "source": [
    "student_data.keys()"
   ]
  },
  {
   "cell_type": "code",
   "execution_count": null,
   "id": "a049c2d5-d318-4f0e-95e2-5d3945e84def",
   "metadata": {},
   "outputs": [],
   "source": [
    "student_data.values()"
   ]
  },
  {
   "cell_type": "markdown",
   "id": "da05cac7-13d8-4ecd-bb6e-c244c29ede11",
   "metadata": {},
   "source": [
    "As you can see, the `keys` of a dictionary can be either:\n",
    "\n",
    "- strings \n",
    "- numbers\n",
    "\n",
    "In this above example, the dictionary `keys` which are strings. In this particular case, the `values` are also dictionaries."
   ]
  },
  {
   "cell_type": "code",
   "execution_count": null,
   "id": "3f9406c7-6da3-430f-a99c-db109cced171",
   "metadata": {},
   "outputs": [],
   "source": [
    "student_data[\"Jane\"].keys()"
   ]
  },
  {
   "cell_type": "code",
   "execution_count": null,
   "id": "2b9ec1e3-7e34-4340-863f-09b442c113ba",
   "metadata": {},
   "outputs": [],
   "source": [
    "student_data[\"Jane\"].values()"
   ]
  },
  {
   "cell_type": "markdown",
   "id": "12cf0a81-5f6b-434b-aef2-ebb9afc191ce",
   "metadata": {},
   "source": [
    "💡Check for understanding: how would you access the first grade of Jane?"
   ]
  },
  {
   "cell_type": "code",
   "execution_count": null,
   "id": "607b21fe-fbd6-430a-b94e-df80ee7864f7",
   "metadata": {},
   "outputs": [],
   "source": [
    "# Try it yourself here"
   ]
  },
  {
   "cell_type": "markdown",
   "id": "2976667a-d51a-4188-ba3a-67a47097d071",
   "metadata": {},
   "source": [
    "We mentioned nested dictionaries (dictionaries inside dictionaries) but as you can see in the example, we can also have lists inside dictionaries. "
   ]
  },
  {
   "cell_type": "markdown",
   "id": "b1f00c61-f13c-4155-a7d4-d663de273a44",
   "metadata": {},
   "source": [
    "You can also have lists in which each element is a dictionary. Therefore the amount of possible combinations and levels of nesting is endless."
   ]
  },
  {
   "cell_type": "code",
   "execution_count": null,
   "id": "78d88957-0a66-4df7-b656-5edaeaf43a6c",
   "metadata": {},
   "outputs": [],
   "source": [
    "my_data = [{'Mike': [25,23000],'Jane': [38, 40000],'Bill': [45,35000]},{'Developers': ['Mike','Bill']},{'HR': ['Jane']}]\n",
    "my_data"
   ]
  },
  {
   "cell_type": "markdown",
   "id": "b6a957c4-d529-4fa9-a1d2-dfea3e59adcc",
   "metadata": {},
   "source": [
    "This is an example of a nested list with three elements, and each element is a dictionary. When working with nested data structures like this, it is important to understand the type of variable you are dealing with.\n",
    "\n",
    "Let's check the type of the variable `my_data`:"
   ]
  },
  {
   "cell_type": "code",
   "execution_count": null,
   "id": "1482c0ca-8477-4b4b-8e15-c5a137a62bf9",
   "metadata": {},
   "outputs": [],
   "source": [
    "type(my_data)"
   ]
  },
  {
   "cell_type": "markdown",
   "id": "a87a5836-1c86-4a1e-8a12-5201daa9e4b5",
   "metadata": {},
   "source": [
    "Let's access the first element of the list. Since the variable is a **list**, we use **indexing**. Indexing allows us to retrieve specific elements from a list by their position. In this case, to access the first element, we use the index 0 since Python starts counting from 0."
   ]
  },
  {
   "cell_type": "code",
   "execution_count": null,
   "id": "247f2ac8-bcaf-46f8-bd70-25a9e51e69eb",
   "metadata": {},
   "outputs": [],
   "source": [
    "my_data[0]"
   ]
  },
  {
   "cell_type": "markdown",
   "id": "88fe62d8-d888-4e97-8856-959ee1bd47aa",
   "metadata": {},
   "source": [
    "This element is a dictionary, which can be determined by its structure and the presence of key-value pairs. However, if you're unsure about the data type, you can use the `type()` function to confirm it."
   ]
  },
  {
   "cell_type": "code",
   "execution_count": null,
   "id": "9a049816-1098-4799-82a8-003fa5ccd263",
   "metadata": {},
   "outputs": [],
   "source": [
    "type(my_data[0])"
   ]
  },
  {
   "cell_type": "markdown",
   "id": "635d4205-cc13-4a0b-aa87-c0898da9d3dd",
   "metadata": {},
   "source": [
    "Now let's access the data of 'Jane'. Since this element is a **dictionary**, we need to access its values using the corresponding **keys**."
   ]
  },
  {
   "cell_type": "code",
   "execution_count": null,
   "id": "062356f6-f02c-4d11-9dd0-2e55cfa438b8",
   "metadata": {},
   "outputs": [],
   "source": [
    "my_data[0]['Jane']"
   ]
  },
  {
   "cell_type": "markdown",
   "id": "089625c7-dfd1-4b7a-b490-9821eb84572d",
   "metadata": {},
   "source": [
    "As we can see, we get another **list**. To access the last element of this list, we can use its **index**."
   ]
  },
  {
   "cell_type": "code",
   "execution_count": null,
   "id": "9bd9d9ac-91c9-48df-8973-18de70bfa330",
   "metadata": {},
   "outputs": [],
   "source": [
    "type(my_data[0]['Jane']) # Let's make sure its a list"
   ]
  },
  {
   "cell_type": "code",
   "execution_count": null,
   "id": "fefcc28d-84b9-4e6e-815b-e924a99ff32e",
   "metadata": {},
   "outputs": [],
   "source": [
    "my_data[0]['Jane'][1]"
   ]
  },
  {
   "cell_type": "markdown",
   "id": "b7107a1a-b95b-4af4-bff4-91a42d435d55",
   "metadata": {},
   "source": [
    "<h1 style=\"color: #00BFFF;\">Extra: \"is\" vs \"==\" </h1>"
   ]
  },
  {
   "cell_type": "markdown",
   "id": "644820c4-1c6a-4793-8153-4a34d6b822de",
   "metadata": {},
   "source": [
    "- `==` compares the values of two objects and returns `True` if they are equal.\n",
    "- `is` compares the identity of two objects and returns `True` if they refer to the same object in memory.\n",
    "- `id()` is a built-in function in Python that returns the unique identifier (memory address) of an object. Each object has a distinct `id()` value, allowing us to differentiate between different objects even if they have the same values."
   ]
  },
  {
   "cell_type": "code",
   "execution_count": null,
   "id": "4733a76e-fa9f-4c21-b277-3ecca378139c",
   "metadata": {},
   "outputs": [],
   "source": [
    "a = [1, 2]\n",
    "b = [1, 2]\n",
    "\n",
    "# Comparing the values of a and b using ==\n",
    "print(a == b)  # True (Both lists have the same values)\n",
    "\n",
    "# Comparing the identity of a and b using is\n",
    "print(a is b)  # False (a and b are different objects in memory)\n",
    "\n",
    "# Printing the unique identifier (memory address) of a and b\n",
    "print(id(a))\n",
    "print(id(b))\n",
    "\n",
    "# Assigning b to a\n",
    "a = b\n",
    "\n",
    "# Comparing the identity of a and b again after assignment\n",
    "print(a is b)  # True (a and b now refer to the same object)\n",
    "\n",
    "# Printing the updated memory addresses of a and b\n",
    "print(id(a))\n",
    "print(id(b))\n"
   ]
  }
 ],
 "metadata": {
  "kernelspec": {
   "display_name": "Python 3 (ipykernel)",
   "language": "python",
   "name": "python3"
  },
  "language_info": {
   "codemirror_mode": {
    "name": "ipython",
    "version": 3
   },
   "file_extension": ".py",
   "mimetype": "text/x-python",
   "name": "python",
   "nbconvert_exporter": "python",
   "pygments_lexer": "ipython3",
   "version": "3.12.4"
  },
  "toc": {
   "base_numbering": 1,
   "nav_menu": {},
   "number_sections": true,
   "sideBar": false,
   "skip_h1_title": false,
   "title_cell": "Table of Contents",
   "title_sidebar": "Contents",
   "toc_cell": true,
   "toc_position": {
    "height": "537.273px",
    "left": "1007.99px",
    "top": "110.824px",
    "width": "261.818px"
   },
   "toc_section_display": true,
   "toc_window_display": true
  }
 },
 "nbformat": 4,
 "nbformat_minor": 5
}
